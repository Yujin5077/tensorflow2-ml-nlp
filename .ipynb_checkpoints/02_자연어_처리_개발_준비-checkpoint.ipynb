{
 "cells": [
  {
   "cell_type": "markdown",
   "id": "9a6fb1f9",
   "metadata": {},
   "source": [
    "## 자연어 처리를 위한 라이브러리\n",
    "### 1. 텐서플로(TensorFlow)\n",
    "\n",
    "    - 데이터 플로 그래프를 통한 풍부한 표현력\n",
    "    - 아이디어 테스트에서 서비스 단계까지 이용 가능\n",
    "    - 계산 구조와 목표 함수만 정의하면 자동으로 미분 계산을 처리\n",
    "    - 파이썬/c++을 지원하며, SWIG를 통해 다양한 언어 지원 가능\n",
    "    - 유연성과 확장성 \n",
    "    \n",
    "   여기서 텐서는 N차원의 매트릭스를 의미하며, 텐서를 Flow한다는 것은 데이터 흐름 그래프(Data flow graph)를 사용해 수치 연산을 하는 과정을 의미한다. \n",
    " <br> 그래프의 노드(node)는 수치 연산(operator), 변수(variable), 상수(constant)를 나타내고 엣지(edge)는 노드 사이를 이동하는 다차원 데이터 배열(텐서, tensor)을 나타낸다."
   ]
  },
  {
   "cell_type": "markdown",
   "id": "ed6ddd41",
   "metadata": {},
   "source": [
    "#### 1.1 tf.keras.layers\n",
    "    - 텐서플로를 이용하여 딥러닝 모델을 만드는 것은 블록을 쌓아서 전체구조를 만드는 것과 유사\n",
    "    - 블록 역할을 하는 모듈 중 하나인 keras.layers\n",
    "    - 케라스는 텐서플로와 별개의 딥러닝 오픈소스이지만, 텐서플로에서도 사용 가능\n",
    "    \n",
    "**tf.keras.layers.Dense**\n",
    "   - Dense란 신경망 구조의 가장 기본적인 형태를 의미한다.\n",
    "   - y = f(Wx+b) 를 만족하는 신경망 형태의 층을 만드는 함수\n",
    "   - x,b는 입력 벡터, 편향 벡터이며 w는 가중치 행렬이다. (이러한 값에 f라는 활성화 함수를 적용하는 형태)"
   ]
  },
  {
   "cell_type": "markdown",
   "id": "e07d6649",
   "metadata": {},
   "source": [
    "#### 라이브러리 불러오기 & 상수값 결정"
   ]
  },
  {
   "cell_type": "code",
   "execution_count": 1,
   "id": "f9413a4a",
   "metadata": {},
   "outputs": [],
   "source": [
    "import tensorflow as tf"
   ]
  },
  {
   "cell_type": "code",
   "execution_count": 2,
   "id": "f0604cd5",
   "metadata": {},
   "outputs": [],
   "source": [
    "INPUT_SIZE = (20, 1)\n",
    "CONV_INPUT_SIZE = (1, 28, 28)\n",
    "IS_TRAINING = True"
   ]
  },
  {
   "cell_type": "markdown",
   "id": "52110472",
   "metadata": {},
   "source": [
    "#### Dense Layer\n",
    "    - 활성화함수는 시그모이드 함수\n",
    "    - 출력 값으로 10개의 값을 출력하는 완전 연결 계층"
   ]
  },
  {
   "cell_type": "code",
   "execution_count": 3,
   "id": "7423eadb",
   "metadata": {},
   "outputs": [],
   "source": [
    "inputs = tf.keras.layers.Input(shape= INPUT_SIZE)\n",
    "output = tf.keras.layers.Dense(units = 10, activation = tf.nn.sigmoid)(inputs)"
   ]
  },
  {
   "cell_type": "markdown",
   "id": "ab5c35ed",
   "metadata": {},
   "source": [
    "    - 10개의 노드를 가지는 은닉층, 최종 출력 값은 2개의 노드가 있는 신경망 구조\n",
    "    - 객체 두개를 생성해서 생성 가능"
   ]
  },
  {
   "cell_type": "code",
   "execution_count": 4,
   "id": "95ee77d2",
   "metadata": {},
   "outputs": [],
   "source": [
    "inputs = tf.keras.layers.Input(shape=INPUT_SIZE)\n",
    "\n",
    "hidden = tf.keras.layers.Dense(units = 10, activation = tf.nn.sigmoid)(inputs)\n",
    "output = tf.keras.layers.Dense(units = 2, activation = tf.nn.sigmoid)(hidden)"
   ]
  },
  {
   "cell_type": "markdown",
   "id": "dc563339",
   "metadata": {},
   "source": [
    "#### tf.keras.layers.Dropout\n",
    "    - overfitting 문제는 reqularization(정규화)를 통해 막을 수 있음 \n",
    "    - 대표적인 방법이 dropout\n",
    "    - dense층을 만드는 방법과 유사하게 dropout 층을 만들면 됨"
   ]
  },
  {
   "cell_type": "code",
   "execution_count": 5,
   "id": "fa7f9477",
   "metadata": {},
   "outputs": [],
   "source": [
    "inputs = tf.keras.layers.Input(shape = INPUT_SIZE)\n",
    "dropout = tf.keras.layers.Dropout(rate = 0.5)(inputs)"
   ]
  },
  {
   "cell_type": "code",
   "execution_count": 6,
   "id": "fa576e37",
   "metadata": {},
   "outputs": [],
   "source": [
    "inputs = tf.keras.layers.Input(shape = INPUT_SIZE)\n",
    "dropout = tf.keras.layers.Dropout(rate = 0.2)(inputs)\n",
    "hidden = tf.keras.layers.Dense(units = 10, activation = tf.nn.sigmoid)(dropout)\n",
    "output = tf.keras.layers.Dense(units = 2, activation = tf.nn.sigmoid)(hidden)"
   ]
  },
  {
   "cell_type": "markdown",
   "id": "bd779461",
   "metadata": {},
   "source": [
    "#### tf.keras.layers.Conv1D\n",
    "    - 합성곱 연산은 크게 Conv1D, Conv2D, Conv3D 세 개가 있다.\n",
    "        - Conv1D는 합성곱의 방향이 한방향(가로), 출력값은 1-D Array(vector)\n",
    "        - Conv2D는 합성곱의 방향이 두방향(가로, 세로), 출력값은 2-D Array(matrix)\n",
    "        - Conv3D는 합성곱의 방향이 세 방향(가로, 세로, 높이), 출력값은 3-D Array(tensor)\n",
    "    - 위의 설명은 배치의 경우는 고려하지 않고 필터를 하나만 적용했을 때이다. "
   ]
  },
  {
   "cell_type": "markdown",
   "id": "d8f6b952",
   "metadata": {},
   "source": [
    "- 자연어 처리에서는 합성곱의 경우 각 단어(혹은 문자) 벡터의 차원 전체에 대해 필터를 적용시키기 위해 주로 Conv1D를 사용"
   ]
  },
  {
   "cell_type": "code",
   "execution_count": 7,
   "id": "1168ce31",
   "metadata": {},
   "outputs": [],
   "source": [
    "inputs = tf.keras.layers.Input(shape = CONV_INPUT_SIZE)\n",
    "\n",
    "conv = tf.keras.layers.Conv1D(\n",
    "    filters = 10,\n",
    "    kernel_size=3,\n",
    "    padding = 'same',\n",
    "    activation=tf.nn.relu)(inputs)"
   ]
  },
  {
   "cell_type": "markdown",
   "id": "5de33bba",
   "metadata": {},
   "source": [
    "    - dropout도 Conv1D와 사용간으"
   ]
  },
  {
   "cell_type": "code",
   "execution_count": 8,
   "id": "ca610d1c",
   "metadata": {},
   "outputs": [],
   "source": [
    "inputs = tf.keras.layers.Input(shape = CONV_INPUT_SIZE)\n",
    "\n",
    "dropouts = tf.keras.layers.Dropout(rate=0.2)(inputs)\n",
    "conv = tf.keras.layers.Conv1D(\n",
    "    filters = 10,\n",
    "    kernel_size = 3,\n",
    "    padding = 'same',\n",
    "    activation = tf.nn.relu)(dropouts)"
   ]
  },
  {
   "cell_type": "markdown",
   "id": "f22a3971",
   "metadata": {},
   "source": [
    "#### tf.keras.layers.MaxPool1D\n",
    "    - 풀링은 feature map의 크기를 줄이거나 주요한 특징을 잡기 위해 합성곱 이후에 적용되는 기법\n",
    "    - 풀링은 max-pooling, average-pooling 두가지가 있다.\n",
    "    - max-pooling은 최대값만을 뽑아내는 방식\n",
    "    - average-pooling은 평균값을 뽑아내는 방식"
   ]
  },
  {
   "cell_type": "markdown",
   "id": "2addb466",
   "metadata": {},
   "source": [
    "- max-pooling도 합성곱과 같이 세 가지 형태로 구분되어 있다. (MaxPool1D, MaxPool2D, MaxPool3D)\n",
    "- 자연어처리에서 사용되는 합성곱은 합성곱과 동일하게 MaxPool1D이다.(한 방향으로만 풀링 진행)"
   ]
  },
  {
   "cell_type": "code",
   "execution_count": 9,
   "id": "d97b793b",
   "metadata": {},
   "outputs": [],
   "source": [
    "inputs = tf.keras.layers.Input(shape = INPUT_SIZE)\n",
    "\n",
    "dropout = tf.keras.layers.Dropout(rate = 0.2)(inputs)\n",
    "conv = tf.keras.layers.Conv1D(\n",
    "    filters = 10,\n",
    "    kernel_size = 3,\n",
    "    padding = 'same',\n",
    "    activation = tf.nn.relu)(dropout)\n",
    "\n",
    "max_pool = tf.keras.layers.MaxPool1D(pool_size = 3, padding = 'same')(conv)\n",
    "flatten = tf.keras.layers.Flatten()(max_pool)\n",
    "\n",
    "hidden = tf.keras.layers.Dense(units = 50, activation = tf.nn.relu)(flatten)\n",
    "output = tf.keras.layers.Dense(units = 10, activation = tf.nn.softmax)(hidden)"
   ]
  },
  {
   "cell_type": "markdown",
   "id": "9466d07f",
   "metadata": {},
   "source": [
    "- input -> dropout -> conv -> max_pooling -> flatten -> hidden -> output"
   ]
  },
  {
   "cell_type": "markdown",
   "id": "bd412ba7",
   "metadata": {},
   "source": [
    "#### API 정리\n",
    "    - tensorflow1.x 버전에서는 같은 기능을 수행하는 다양한 API가 다양한 패키지에 존재했었다.\n",
    "    - tensorflow2.x 에서는 명료하게 사용하기 편하도록 동일한 기능의 다야한 API를 하나로 통합, 불필요한 API를 제거 하였다."
   ]
  },
  {
   "cell_type": "markdown",
   "id": "f8b14546",
   "metadata": {},
   "source": [
    "#### 이거모드(Eager execution)\n",
    "    - 기존 tensorflow의 실행 방식은 tensorflow API를 이용해 그래프를 만든 후 별도로 해당 그래프를 실행하는 방식이었다.\n",
    "    - 연산의 결과를 알기 위해서는 연산 그래프를 만든 후 session_run()을 통해 그려진 그래프를 추가로 실행해야만 값을 확인 할 수 있었다.\n",
    "    - 2.0 부터는 파이썬과 동일한 이거모드를 통해 연산을 구성하면서 바로 값을 확인할 수 있다."
   ]
  },
  {
   "cell_type": "markdown",
   "id": "4b4d2265",
   "metadata": {},
   "source": [
    "#### 모델 구축\n",
    "    - tensorflow2.x에서는 케라스를 활용해 모델을 구축하고 활용하는 것을 권장한다.\n",
    "    - 케라스를 활용하여 모델을 구축하는 방법은 크게 다음과 같다.\n",
    "        1. Sequential API\n",
    "        2. Funtional API\n",
    "        3. Funtional API/Sequential API + Custom Layers\n",
    "        4. Subclassing (Custom Model)"
   ]
  },
  {
   "cell_type": "markdown",
   "id": "d9be4afd",
   "metadata": {},
   "source": [
    "- 해당 교제에서는 Subclassing을 주로 이용해 모델을 구축한다."
   ]
  },
  {
   "cell_type": "code",
   "execution_count": 10,
   "id": "3ff74c25",
   "metadata": {},
   "outputs": [],
   "source": [
    "import tensorflow as tf\n",
    "from tensorflow.keras import preprocessing\n",
    "\n",
    "import numpy as np"
   ]
  },
  {
   "cell_type": "code",
   "execution_count": 11,
   "id": "976178f1",
   "metadata": {},
   "outputs": [],
   "source": [
    "samples = ['너 오늘 이뻐 보인다',\n",
    "          '나는 오늘 기분이 더러워',\n",
    "          '끝내주는데, 좋은 일이 있나봐',\n",
    "          '나 좋은 일이 생겼어',\n",
    "          '아 오늘 진짜 짜증나',\n",
    "          '환상적인데, 정말 좋은거 같아']\n",
    "\n",
    "targets =[[1], [0], [1], [1], [0], [1]]"
   ]
  },
  {
   "cell_type": "code",
   "execution_count": 12,
   "id": "6f346e3d",
   "metadata": {},
   "outputs": [],
   "source": [
    "tokenizer = preprocessing.text.Tokenizer()\n",
    "tokenizer.fit_on_texts(samples)\n",
    "sequences = tokenizer.texts_to_sequences(samples)\n",
    "input_sequences = np.array(sequences)\n",
    "labels = np.array(targets)\n",
    "\n",
    "word_index = tokenizer.word_index"
   ]
  },
  {
   "cell_type": "code",
   "execution_count": 13,
   "id": "ae4eb512",
   "metadata": {},
   "outputs": [],
   "source": [
    "from tensorflow.keras import backend\n",
    "from tensorflow.keras import layers"
   ]
  },
  {
   "cell_type": "code",
   "execution_count": 14,
   "id": "57d50790",
   "metadata": {},
   "outputs": [],
   "source": [
    "batch_size = 2\n",
    "num_epochs = 5"
   ]
  },
  {
   "cell_type": "code",
   "execution_count": 15,
   "id": "90a26739",
   "metadata": {},
   "outputs": [],
   "source": [
    "vocab_size = len(word_index) + 1\n",
    "emb_size = 128\n",
    "hidden_dimension = 256\n",
    "output_dimension = 1"
   ]
  },
  {
   "cell_type": "markdown",
   "id": "ff0bbe0c",
   "metadata": {},
   "source": [
    "#### 1. Sequential API\n",
    "    - 가장 간단한 형태의 API\n",
    "    - 순차적인 레이어 스택을 구현할 수 있다. \n",
    "    - 다음과 같은 방법으로 간단한 형태의 완전 연결 계층(fully-connected layer)을 구현할 수 있다."
   ]
  },
  {
   "cell_type": "markdown",
   "id": "4121def2",
   "metadata": {},
   "source": [
    "- **lambda층**은 텐서플로 연산을 Sequential API와 Funtaional API에 적용하기 위해 사용하는 방법\n",
    "- 평균의 경우 하나의 층으로 정의돼 있지 않기 때문에 **람다 층**을 활용해 해당 층에 들어오는 입력 값들을 평균함"
   ]
  },
  {
   "cell_type": "code",
   "execution_count": 16,
   "id": "22a0dfa6",
   "metadata": {},
   "outputs": [],
   "source": [
    "model = tf.keras.Sequential([\n",
    "    layers.Embedding(vocab_size, emb_size, input_length = 4),\n",
    "    layers.Lambda(lambda x: tf.reduce_mean(x, axis = 1)),\n",
    "    layers.Dense(hidden_dimension, activation='relu'),\n",
    "    layers.Dense(output_dimension, activation='sigmoid')])\n",
    "\n",
    "model.compile(optimizer=tf.keras.optimizers.Adam(0.001),\n",
    "             loss='binary_crossentropy',\n",
    "             metrics=['accuracy'])"
   ]
  },
  {
   "cell_type": "code",
   "execution_count": 17,
   "id": "9bfc8033",
   "metadata": {},
   "outputs": [
    {
     "name": "stdout",
     "output_type": "stream",
     "text": [
      "Model: \"sequential\"\n",
      "_________________________________________________________________\n",
      " Layer (type)                Output Shape              Param #   \n",
      "=================================================================\n",
      " embedding (Embedding)       (None, 4, 128)            2688      \n",
      "                                                                 \n",
      " lambda (Lambda)             (None, 128)               0         \n",
      "                                                                 \n",
      " dense_7 (Dense)             (None, 256)               33024     \n",
      "                                                                 \n",
      " dense_8 (Dense)             (None, 1)                 257       \n",
      "                                                                 \n",
      "=================================================================\n",
      "Total params: 35,969\n",
      "Trainable params: 35,969\n",
      "Non-trainable params: 0\n",
      "_________________________________________________________________\n"
     ]
    }
   ],
   "source": [
    "model.summary()"
   ]
  },
  {
   "cell_type": "code",
   "execution_count": 18,
   "id": "5a5cf890",
   "metadata": {},
   "outputs": [
    {
     "name": "stdout",
     "output_type": "stream",
     "text": [
      "Epoch 1/5\n",
      "3/3 [==============================] - 1s 4ms/step - loss: 0.6932 - accuracy: 0.5000\n",
      "Epoch 2/5\n",
      "3/3 [==============================] - 0s 3ms/step - loss: 0.6745 - accuracy: 1.0000\n",
      "Epoch 3/5\n",
      "3/3 [==============================] - 0s 0s/step - loss: 0.6560 - accuracy: 1.0000\n",
      "Epoch 4/5\n",
      "3/3 [==============================] - 0s 2ms/step - loss: 0.6377 - accuracy: 1.0000\n",
      "Epoch 5/5\n",
      "3/3 [==============================] - 0s 7ms/step - loss: 0.6179 - accuracy: 1.0000\n"
     ]
    },
    {
     "data": {
      "text/plain": [
       "<keras.callbacks.History at 0x144041db208>"
      ]
     },
     "execution_count": 18,
     "metadata": {},
     "output_type": "execute_result"
    }
   ],
   "source": [
    "model.fit(input_sequences, labels, epochs=num_epochs, batch_size=batch_size)"
   ]
  },
  {
   "cell_type": "markdown",
   "id": "f1273780",
   "metadata": {},
   "source": [
    "    - Sequential 모듈의 경우 모델의 층이 순차적으로 구성돼 있지 않은 경우에는 Sequential 모듈을 사용해 구현하기 어려울 수 있다.\n",
    "    - VAQ(Visual Question Answering)문제: 사진과 질문이 입력값으로 주어지고 사진을 참고해 질문에 답하는 문제\n",
    "        - 사진 데이터에서 특징을 뽑는 레이어와 질문 텍스트 데이터에서 특징을 뽑는 두 레이어가 각기 순차적으로 존재한다.\n",
    "        - 최종적으로 이 두값을 합쳐야 하는데, 이러한 구조를 구현할 때 하나의 플로만 계산할 수 있다.\n",
    "        - 그렇기 때문에 두 값을 합치는 것이 불가능하기 때문에 제약이 많다."
   ]
  },
  {
   "cell_type": "markdown",
   "id": "57392498",
   "metadata": {},
   "source": [
    "    - Sequential 모듈을 사용하기 어려운 경우\n",
    "        1. 다중 입력값 모델(Multi-input models)\n",
    "        2. 다중 출력값 모델(Multi-output models)\n",
    "        3. 공유 층을 활용하는 모델(Models with shared layers)\n",
    "        4. 데이터의 흐름이 순차적이지 않은 모델(Models with non-sequential data flows)"
   ]
  },
  {
   "cell_type": "markdown",
   "id": "0942538b",
   "metadata": {},
   "source": [
    "#### 2. Funtional API\n",
    "    "
   ]
  },
  {
   "cell_type": "markdown",
   "id": "edeb921b",
   "metadata": {},
   "source": [
    "     - 입력 값을 받는 Input 모듈을 선언해야 한다. 입력 받는 값의 형태(shape)를 정의하면 됨\n",
    "     - 이 입력값을 호출할 때는 인자로 전달하는 방식으로 구현하면 된다.\n",
    "     - 이렇게 정의한 후 최종 출력 값을 사용해 모델을 학습하면 된다."
   ]
  },
  {
   "cell_type": "code",
   "execution_count": 19,
   "id": "86cf08f9",
   "metadata": {},
   "outputs": [],
   "source": [
    "inputs = layers.Input(shape=(4, ))\n",
    "embed_output = layers.Embedding(vocab_size, emb_size)(inputs)\n",
    "pooled_output = tf.reduce_mean(embed_output, axis=1)\n",
    "hidden_layer = layers.Dense(hidden_dimension, activation = 'relu')(pooled_output)\n",
    "outputs = layers.Dense(output_dimension, activation='sigmoid')(hidden_layer)"
   ]
  },
  {
   "cell_type": "code",
   "execution_count": 20,
   "id": "83ee440b",
   "metadata": {},
   "outputs": [],
   "source": [
    "model = tf.keras.Model(inputs = inputs, outputs=outputs)\n",
    "\n",
    "model.compile(optimizer=tf.keras.optimizers.Adam(0.001),\n",
    "             loss='binary_crossentropy',\n",
    "             metrics=['accuracy'])"
   ]
  },
  {
   "cell_type": "code",
   "execution_count": 21,
   "id": "244989fc",
   "metadata": {},
   "outputs": [
    {
     "name": "stdout",
     "output_type": "stream",
     "text": [
      "Model: \"model\"\n",
      "_________________________________________________________________\n",
      " Layer (type)                Output Shape              Param #   \n",
      "=================================================================\n",
      " input_8 (InputLayer)        [(None, 4)]               0         \n",
      "                                                                 \n",
      " embedding_1 (Embedding)     (None, 4, 128)            2688      \n",
      "                                                                 \n",
      " tf.math.reduce_mean (TFOpLa  (None, 128)              0         \n",
      " mbda)                                                           \n",
      "                                                                 \n",
      " dense_9 (Dense)             (None, 256)               33024     \n",
      "                                                                 \n",
      " dense_10 (Dense)            (None, 1)                 257       \n",
      "                                                                 \n",
      "=================================================================\n",
      "Total params: 35,969\n",
      "Trainable params: 35,969\n",
      "Non-trainable params: 0\n",
      "_________________________________________________________________\n"
     ]
    }
   ],
   "source": [
    "model.summary()"
   ]
  },
  {
   "cell_type": "code",
   "execution_count": 22,
   "id": "c1c47f39",
   "metadata": {},
   "outputs": [
    {
     "name": "stdout",
     "output_type": "stream",
     "text": [
      "Epoch 1/5\n",
      "3/3 [==============================] - 0s 3ms/step - loss: 0.6971 - accuracy: 0.3333\n",
      "Epoch 2/5\n",
      "3/3 [==============================] - 0s 513us/step - loss: 0.6780 - accuracy: 0.8333\n",
      "Epoch 3/5\n",
      "3/3 [==============================] - 0s 8ms/step - loss: 0.6610 - accuracy: 1.0000\n",
      "Epoch 4/5\n",
      "3/3 [==============================] - 0s 7ms/step - loss: 0.6439 - accuracy: 1.0000\n",
      "Epoch 5/5\n",
      "3/3 [==============================] - 0s 0s/step - loss: 0.6270 - accuracy: 1.0000\n"
     ]
    },
    {
     "data": {
      "text/plain": [
       "<keras.callbacks.History at 0x1444bee85c8>"
      ]
     },
     "execution_count": 22,
     "metadata": {},
     "output_type": "execute_result"
    }
   ],
   "source": [
    "model.fit(input_sequences, labels, epochs=num_epochs, batch_size=batch_size)"
   ]
  },
  {
   "cell_type": "markdown",
   "id": "adf96498",
   "metadata": {},
   "source": [
    "#### 3. Custom Layer\n",
    "    - 새로운 연산을 하는 는 레이어 혹은 편의를 위해 여러 레이어를 하나로 묶은 레이어를 구현해야 하는 경우가 있다.\n",
    "    - 이때, 사용자 정의 층(custom layer)을 만들어 사용하면 된다. \n",
    "    - 신경망을 하나의 레이어로 묶어 재사용성을 높이고 싶으면 새로운 사용자 정의 층으로 정의하면 된다."
   ]
  },
  {
   "cell_type": "code",
   "execution_count": 23,
   "id": "0d81d601",
   "metadata": {},
   "outputs": [],
   "source": [
    "class CustomModel(tf.keras.Model):\n",
    "\n",
    "    def __init__(self, vocab_size, embed_dimension, hidden_dimension, output_dimension):\n",
    "        super(CustomModel, self).__init__(name='my_model')\n",
    "        self.embedding = layers.Embedding(vocab_size, embed_dimension)\n",
    "        self.dense_layer = layers.Dense(hidden_dimension, activation='relu')\n",
    "        self.output_layer = layers.Dense(output_dimension, activation='sigmoid')\n",
    "\n",
    "    def call(self, inputs):\n",
    "        x = self.embedding(inputs)\n",
    "        x = tf.reduce_mean(x, axis=1)\n",
    "        x = self.dense_layer(x)\n",
    "        x = self.output_layer(x)\n",
    "        \n",
    "        return x"
   ]
  },
  {
   "cell_type": "code",
   "execution_count": 24,
   "id": "7cd6ac1d",
   "metadata": {
    "scrolled": true
   },
   "outputs": [
    {
     "name": "stdout",
     "output_type": "stream",
     "text": [
      "Epoch 1/5\n",
      "3/3 [==============================] - 0s 5ms/step - loss: 0.6965 - accuracy: 0.1667\n",
      "Epoch 2/5\n",
      "3/3 [==============================] - 0s 5ms/step - loss: 0.6768 - accuracy: 0.8333\n",
      "Epoch 3/5\n",
      "3/3 [==============================] - 0s 0s/step - loss: 0.6617 - accuracy: 1.0000\n",
      "Epoch 4/5\n",
      "3/3 [==============================] - 0s 768us/step - loss: 0.6457 - accuracy: 1.0000\n",
      "Epoch 5/5\n",
      "3/3 [==============================] - 0s 8ms/step - loss: 0.6290 - accuracy: 1.0000\n"
     ]
    },
    {
     "data": {
      "text/plain": [
       "<keras.callbacks.History at 0x1445cf61608>"
      ]
     },
     "execution_count": 24,
     "metadata": {},
     "output_type": "execute_result"
    }
   ],
   "source": [
    "model = CustomModel(vocab_size = vocab_size,\n",
    "            embed_dimension=emb_size,\n",
    "            hidden_dimension=hidden_dimension,\n",
    "            output_dimension=output_dimension)\n",
    "\n",
    "model.compile(optimizer=tf.keras.optimizers.Adam(0.001),\n",
    "              loss='binary_crossentropy',\n",
    "              metrics=['accuracy'])\n",
    "\n",
    "model.fit(input_sequences, labels, epochs=num_epochs, batch_size=batch_size)"
   ]
  },
  {
   "cell_type": "markdown",
   "id": "b088ac4e",
   "metadata": {},
   "source": [
    "#### 4. Subclassing(Custom Model)\n",
    "    - 가장 자유도가 높은 방법\n",
    "    - tf.keras.Model을 상속받고 모델 내부 연산들을 직접 구현하면 된다.\n",
    "    - 객체를 생성할 때 호출되는 __init__ 메서드와 생성된 인스턴스를 호출할 때 호출되는 call 매서드만 구현하면 됨"
   ]
  },
  {
   "cell_type": "code",
   "execution_count": 25,
   "id": "d2a5dbd6",
   "metadata": {},
   "outputs": [],
   "source": [
    "class CustomLayer(layers.Layer):\n",
    "\n",
    "    def __init__(self, hidden_dimension, output_dimension, **kwargs):\n",
    "        self.hidden_dimension = hidden_dimension\n",
    "        self.output_dimension = output_dimension\n",
    "        super(CustomLayer, self).__init__(**kwargs)\n",
    "\n",
    "    def build(self, input_shape):\n",
    "        self.dense_layer1 = layers.Dense(self.hidden_dimension, activation = 'relu')\n",
    "        self.dense_layer2 = layers.Dense(self.output_dimension)\n",
    "\n",
    "    def call(self, inputs):\n",
    "        hidden_output = self.dense_layer1(inputs)\n",
    "        return self.dense_layer2(hidden_output)\n",
    "\n",
    "    # Optional\n",
    "    def get_config(self):\n",
    "        base_config = super(CustomLayer, self).get_config()\n",
    "        base_config['hidden_dim'] = self.hidden_dimension\n",
    "        base_config['output_dim'] = self.output_dim\n",
    "        return base_config\n",
    "\n",
    "    @classmethod\n",
    "    def from_config(cls, config):\n",
    "        return cls(**config)"
   ]
  },
  {
   "cell_type": "code",
   "execution_count": 26,
   "id": "13913112",
   "metadata": {
    "scrolled": true
   },
   "outputs": [
    {
     "name": "stdout",
     "output_type": "stream",
     "text": [
      "Epoch 1/5\n",
      "3/3 [==============================] - 0s 0s/step - loss: 0.6944 - accuracy: 0.5000\n",
      "Epoch 2/5\n",
      "3/3 [==============================] - 0s 0s/step - loss: 0.6758 - accuracy: 1.0000\n",
      "Epoch 3/5\n",
      "3/3 [==============================] - 0s 8ms/step - loss: 0.6603 - accuracy: 1.0000\n",
      "Epoch 4/5\n",
      "3/3 [==============================] - 0s 7ms/step - loss: 0.6458 - accuracy: 1.0000\n",
      "Epoch 5/5\n",
      "3/3 [==============================] - 0s 0s/step - loss: 0.6285 - accuracy: 1.0000\n"
     ]
    },
    {
     "data": {
      "text/plain": [
       "<keras.callbacks.History at 0x14463280408>"
      ]
     },
     "execution_count": 26,
     "metadata": {},
     "output_type": "execute_result"
    }
   ],
   "source": [
    "model = tf.keras.Sequential([\n",
    "    layers.Embedding(vocab_size, emb_size, input_length = 4),\n",
    "    layers.Lambda(lambda x: tf.reduce_mean(x, axis = 1)),\n",
    "    CustomLayer(hidden_dimension, output_dimension),\n",
    "    layers.Activation('sigmoid')])\n",
    "\n",
    "model.compile(optimizer=tf.keras.optimizers.Adam(0.001),\n",
    "             loss='binary_crossentropy',\n",
    "             metrics=['accuracy'])\n",
    "\n",
    "model.fit(input_sequences, labels, epochs = num_epochs, batch_size = batch_size)"
   ]
  },
  {
   "cell_type": "markdown",
   "id": "9c1daae3",
   "metadata": {},
   "source": [
    "### 2. 사이킷런(scikit-learn)\n",
    "    - 파이썬용 머신러닝 라이브러리 \n",
    "    - 구성 모듈\n",
    "        1. 지도학습을 위한 모듈(Naive Bayes, Decision Trees, Support Vector Machines 등)\n",
    "        2. 비지도학습을 위한 모듈(Clustering, Caussian mixture models 등)\n",
    "        3. 모델 선택 및 평가를 위한 모듈(cross validation, Model evaluation, 모델 불러오기와 저장 등)\n",
    "        4. 데이터 변환 및 데이터를 불러오기 위한 모듈(Pipeline, Freature extraction, preprocessing data, dimensionality reduction 등)\n",
    "        5. 계산 성능 향상을 위한 모듈\n",
    "    - 머신러닝 학습과 연구를 위한 데이터 셋을 포함 "
   ]
  },
  {
   "cell_type": "code",
   "execution_count": 27,
   "id": "dcf8a51f",
   "metadata": {},
   "outputs": [
    {
     "data": {
      "text/plain": [
       "'1.0.2'"
      ]
     },
     "execution_count": 27,
     "metadata": {},
     "output_type": "execute_result"
    }
   ],
   "source": [
    "import sklearn\n",
    "\n",
    "sklearn.__version__"
   ]
  },
  {
   "cell_type": "code",
   "execution_count": 28,
   "id": "c77c365b",
   "metadata": {},
   "outputs": [
    {
     "name": "stdout",
     "output_type": "stream",
     "text": [
      "iris_dataset key: dict_keys(['data', 'target', 'frame', 'target_names', 'DESCR', 'feature_names', 'filename', 'data_module'])\n"
     ]
    }
   ],
   "source": [
    "from sklearn.datasets import load_iris\n",
    "\n",
    "iris_datasets = load_iris()\n",
    "print(\"iris_dataset key: {}\".format(iris_datasets.keys()))"
   ]
  },
  {
   "cell_type": "code",
   "execution_count": 29,
   "id": "9a24f0f3",
   "metadata": {},
   "outputs": [
    {
     "name": "stdout",
     "output_type": "stream",
     "text": [
      "[[5.1 3.5 1.4 0.2]\n",
      " [4.9 3.  1.4 0.2]\n",
      " [4.7 3.2 1.3 0.2]\n",
      " [4.6 3.1 1.5 0.2]\n",
      " [5.  3.6 1.4 0.2]\n",
      " [5.4 3.9 1.7 0.4]\n",
      " [4.6 3.4 1.4 0.3]\n",
      " [5.  3.4 1.5 0.2]\n",
      " [4.4 2.9 1.4 0.2]\n",
      " [4.9 3.1 1.5 0.1]\n",
      " [5.4 3.7 1.5 0.2]\n",
      " [4.8 3.4 1.6 0.2]\n",
      " [4.8 3.  1.4 0.1]\n",
      " [4.3 3.  1.1 0.1]\n",
      " [5.8 4.  1.2 0.2]\n",
      " [5.7 4.4 1.5 0.4]\n",
      " [5.4 3.9 1.3 0.4]\n",
      " [5.1 3.5 1.4 0.3]\n",
      " [5.7 3.8 1.7 0.3]\n",
      " [5.1 3.8 1.5 0.3]\n",
      " [5.4 3.4 1.7 0.2]\n",
      " [5.1 3.7 1.5 0.4]\n",
      " [4.6 3.6 1.  0.2]\n",
      " [5.1 3.3 1.7 0.5]\n",
      " [4.8 3.4 1.9 0.2]\n",
      " [5.  3.  1.6 0.2]\n",
      " [5.  3.4 1.6 0.4]\n",
      " [5.2 3.5 1.5 0.2]\n",
      " [5.2 3.4 1.4 0.2]\n",
      " [4.7 3.2 1.6 0.2]\n",
      " [4.8 3.1 1.6 0.2]\n",
      " [5.4 3.4 1.5 0.4]\n",
      " [5.2 4.1 1.5 0.1]\n",
      " [5.5 4.2 1.4 0.2]\n",
      " [4.9 3.1 1.5 0.2]\n",
      " [5.  3.2 1.2 0.2]\n",
      " [5.5 3.5 1.3 0.2]\n",
      " [4.9 3.6 1.4 0.1]\n",
      " [4.4 3.  1.3 0.2]\n",
      " [5.1 3.4 1.5 0.2]\n",
      " [5.  3.5 1.3 0.3]\n",
      " [4.5 2.3 1.3 0.3]\n",
      " [4.4 3.2 1.3 0.2]\n",
      " [5.  3.5 1.6 0.6]\n",
      " [5.1 3.8 1.9 0.4]\n",
      " [4.8 3.  1.4 0.3]\n",
      " [5.1 3.8 1.6 0.2]\n",
      " [4.6 3.2 1.4 0.2]\n",
      " [5.3 3.7 1.5 0.2]\n",
      " [5.  3.3 1.4 0.2]\n",
      " [7.  3.2 4.7 1.4]\n",
      " [6.4 3.2 4.5 1.5]\n",
      " [6.9 3.1 4.9 1.5]\n",
      " [5.5 2.3 4.  1.3]\n",
      " [6.5 2.8 4.6 1.5]\n",
      " [5.7 2.8 4.5 1.3]\n",
      " [6.3 3.3 4.7 1.6]\n",
      " [4.9 2.4 3.3 1. ]\n",
      " [6.6 2.9 4.6 1.3]\n",
      " [5.2 2.7 3.9 1.4]\n",
      " [5.  2.  3.5 1. ]\n",
      " [5.9 3.  4.2 1.5]\n",
      " [6.  2.2 4.  1. ]\n",
      " [6.1 2.9 4.7 1.4]\n",
      " [5.6 2.9 3.6 1.3]\n",
      " [6.7 3.1 4.4 1.4]\n",
      " [5.6 3.  4.5 1.5]\n",
      " [5.8 2.7 4.1 1. ]\n",
      " [6.2 2.2 4.5 1.5]\n",
      " [5.6 2.5 3.9 1.1]\n",
      " [5.9 3.2 4.8 1.8]\n",
      " [6.1 2.8 4.  1.3]\n",
      " [6.3 2.5 4.9 1.5]\n",
      " [6.1 2.8 4.7 1.2]\n",
      " [6.4 2.9 4.3 1.3]\n",
      " [6.6 3.  4.4 1.4]\n",
      " [6.8 2.8 4.8 1.4]\n",
      " [6.7 3.  5.  1.7]\n",
      " [6.  2.9 4.5 1.5]\n",
      " [5.7 2.6 3.5 1. ]\n",
      " [5.5 2.4 3.8 1.1]\n",
      " [5.5 2.4 3.7 1. ]\n",
      " [5.8 2.7 3.9 1.2]\n",
      " [6.  2.7 5.1 1.6]\n",
      " [5.4 3.  4.5 1.5]\n",
      " [6.  3.4 4.5 1.6]\n",
      " [6.7 3.1 4.7 1.5]\n",
      " [6.3 2.3 4.4 1.3]\n",
      " [5.6 3.  4.1 1.3]\n",
      " [5.5 2.5 4.  1.3]\n",
      " [5.5 2.6 4.4 1.2]\n",
      " [6.1 3.  4.6 1.4]\n",
      " [5.8 2.6 4.  1.2]\n",
      " [5.  2.3 3.3 1. ]\n",
      " [5.6 2.7 4.2 1.3]\n",
      " [5.7 3.  4.2 1.2]\n",
      " [5.7 2.9 4.2 1.3]\n",
      " [6.2 2.9 4.3 1.3]\n",
      " [5.1 2.5 3.  1.1]\n",
      " [5.7 2.8 4.1 1.3]\n",
      " [6.3 3.3 6.  2.5]\n",
      " [5.8 2.7 5.1 1.9]\n",
      " [7.1 3.  5.9 2.1]\n",
      " [6.3 2.9 5.6 1.8]\n",
      " [6.5 3.  5.8 2.2]\n",
      " [7.6 3.  6.6 2.1]\n",
      " [4.9 2.5 4.5 1.7]\n",
      " [7.3 2.9 6.3 1.8]\n",
      " [6.7 2.5 5.8 1.8]\n",
      " [7.2 3.6 6.1 2.5]\n",
      " [6.5 3.2 5.1 2. ]\n",
      " [6.4 2.7 5.3 1.9]\n",
      " [6.8 3.  5.5 2.1]\n",
      " [5.7 2.5 5.  2. ]\n",
      " [5.8 2.8 5.1 2.4]\n",
      " [6.4 3.2 5.3 2.3]\n",
      " [6.5 3.  5.5 1.8]\n",
      " [7.7 3.8 6.7 2.2]\n",
      " [7.7 2.6 6.9 2.3]\n",
      " [6.  2.2 5.  1.5]\n",
      " [6.9 3.2 5.7 2.3]\n",
      " [5.6 2.8 4.9 2. ]\n",
      " [7.7 2.8 6.7 2. ]\n",
      " [6.3 2.7 4.9 1.8]\n",
      " [6.7 3.3 5.7 2.1]\n",
      " [7.2 3.2 6.  1.8]\n",
      " [6.2 2.8 4.8 1.8]\n",
      " [6.1 3.  4.9 1.8]\n",
      " [6.4 2.8 5.6 2.1]\n",
      " [7.2 3.  5.8 1.6]\n",
      " [7.4 2.8 6.1 1.9]\n",
      " [7.9 3.8 6.4 2. ]\n",
      " [6.4 2.8 5.6 2.2]\n",
      " [6.3 2.8 5.1 1.5]\n",
      " [6.1 2.6 5.6 1.4]\n",
      " [7.7 3.  6.1 2.3]\n",
      " [6.3 3.4 5.6 2.4]\n",
      " [6.4 3.1 5.5 1.8]\n",
      " [6.  3.  4.8 1.8]\n",
      " [6.9 3.1 5.4 2.1]\n",
      " [6.7 3.1 5.6 2.4]\n",
      " [6.9 3.1 5.1 2.3]\n",
      " [5.8 2.7 5.1 1.9]\n",
      " [6.8 3.2 5.9 2.3]\n",
      " [6.7 3.3 5.7 2.5]\n",
      " [6.7 3.  5.2 2.3]\n",
      " [6.3 2.5 5.  1.9]\n",
      " [6.5 3.  5.2 2. ]\n",
      " [6.2 3.4 5.4 2.3]\n",
      " [5.9 3.  5.1 1.8]]\n",
      "shape of data: (150, 4)\n"
     ]
    }
   ],
   "source": [
    "print(iris_datasets[\"data\"])\n",
    "print(\"shape of data: {}\".format(iris_datasets[\"data\"].shape))"
   ]
  },
  {
   "cell_type": "code",
   "execution_count": 30,
   "id": "29f547a3",
   "metadata": {},
   "outputs": [
    {
     "name": "stdout",
     "output_type": "stream",
     "text": [
      "['sepal length (cm)', 'sepal width (cm)', 'petal length (cm)', 'petal width (cm)']\n"
     ]
    }
   ],
   "source": [
    "print(iris_datasets[\"feature_names\"])"
   ]
  },
  {
   "cell_type": "code",
   "execution_count": 31,
   "id": "50c07dde",
   "metadata": {},
   "outputs": [
    {
     "name": "stdout",
     "output_type": "stream",
     "text": [
      "[0 0 0 0 0 0 0 0 0 0 0 0 0 0 0 0 0 0 0 0 0 0 0 0 0 0 0 0 0 0 0 0 0 0 0 0 0\n",
      " 0 0 0 0 0 0 0 0 0 0 0 0 0 1 1 1 1 1 1 1 1 1 1 1 1 1 1 1 1 1 1 1 1 1 1 1 1\n",
      " 1 1 1 1 1 1 1 1 1 1 1 1 1 1 1 1 1 1 1 1 1 1 1 1 1 1 2 2 2 2 2 2 2 2 2 2 2\n",
      " 2 2 2 2 2 2 2 2 2 2 2 2 2 2 2 2 2 2 2 2 2 2 2 2 2 2 2 2 2 2 2 2 2 2 2 2 2\n",
      " 2 2]\n",
      "['setosa' 'versicolor' 'virginica']\n"
     ]
    }
   ],
   "source": [
    "print(iris_datasets[\"target\"])\n",
    "print(iris_datasets[\"target_names\"])"
   ]
  },
  {
   "cell_type": "markdown",
   "id": "ae4dcd0a",
   "metadata": {},
   "source": [
    "- DESCR은 해당 데이터의 요약된 정보"
   ]
  },
  {
   "cell_type": "code",
   "execution_count": 32,
   "id": "cf859736",
   "metadata": {},
   "outputs": [
    {
     "name": "stdout",
     "output_type": "stream",
     "text": [
      ".. _iris_dataset:\n",
      "\n",
      "Iris plants dataset\n",
      "--------------------\n",
      "\n",
      "**Data Set Characteristics:**\n",
      "\n",
      "    :Number of Instances: 150 (50 in each of three classes)\n",
      "    :Number of Attributes: 4 numeric, predictive attributes and the class\n",
      "    :Attribute Information:\n",
      "        - sepal length in cm\n",
      "        - sepal width in cm\n",
      "        - petal length in cm\n",
      "        - petal width in cm\n",
      "        - class:\n",
      "                - Iris-Setosa\n",
      "                - Iris-Versicolour\n",
      "                - Iris-Virginica\n",
      "                \n",
      "    :Summary Statistics:\n",
      "\n",
      "    ============== ==== ==== ======= ===== ====================\n",
      "                    Min  Max   Mean    SD   Class Correlation\n",
      "    ============== ==== ==== ======= ===== ====================\n",
      "    sepal length:   4.3  7.9   5.84   0.83    0.7826\n",
      "    sepal width:    2.0  4.4   3.05   0.43   -0.4194\n",
      "    petal length:   1.0  6.9   3.76   1.76    0.9490  (high!)\n",
      "    petal width:    0.1  2.5   1.20   0.76    0.9565  (high!)\n",
      "    ============== ==== ==== ======= ===== ====================\n",
      "\n",
      "    :Missing Attribute Values: None\n",
      "    :Class Distribution: 33.3% for each of 3 classes.\n",
      "    :Creator: R.A. Fisher\n",
      "    :Donor: Michael Marshall (MARSHALL%PLU@io.arc.nasa.gov)\n",
      "    :Date: July, 1988\n",
      "\n",
      "The famous Iris database, first used by Sir R.A. Fisher. The dataset is taken\n",
      "from Fisher's paper. Note that it's the same as in R, but not as in the UCI\n",
      "Machine Learning Repository, which has two wrong data points.\n",
      "\n",
      "This is perhaps the best known database to be found in the\n",
      "pattern recognition literature.  Fisher's paper is a classic in the field and\n",
      "is referenced frequently to this day.  (See Duda & Hart, for example.)  The\n",
      "data set contains 3 classes of 50 instances each, where each class refers to a\n",
      "type of iris plant.  One class is linearly separable from the other 2; the\n",
      "latter are NOT linearly separable from each other.\n",
      "\n",
      ".. topic:: References\n",
      "\n",
      "   - Fisher, R.A. \"The use of multiple measurements in taxonomic problems\"\n",
      "     Annual Eugenics, 7, Part II, 179-188 (1936); also in \"Contributions to\n",
      "     Mathematical Statistics\" (John Wiley, NY, 1950).\n",
      "   - Duda, R.O., & Hart, P.E. (1973) Pattern Classification and Scene Analysis.\n",
      "     (Q327.D83) John Wiley & Sons.  ISBN 0-471-22361-1.  See page 218.\n",
      "   - Dasarathy, B.V. (1980) \"Nosing Around the Neighborhood: A New System\n",
      "     Structure and Classification Rule for Recognition in Partially Exposed\n",
      "     Environments\".  IEEE Transactions on Pattern Analysis and Machine\n",
      "     Intelligence, Vol. PAMI-2, No. 1, 67-71.\n",
      "   - Gates, G.W. (1972) \"The Reduced Nearest Neighbor Rule\".  IEEE Transactions\n",
      "     on Information Theory, May 1972, 431-433.\n",
      "   - See also: 1988 MLC Proceedings, 54-64.  Cheeseman et al\"s AUTOCLASS II\n",
      "     conceptual clustering system finds 3 classes in the data.\n",
      "   - Many, many more ...\n"
     ]
    }
   ],
   "source": [
    "print(iris_datasets[\"DESCR\"])"
   ]
  },
  {
   "cell_type": "markdown",
   "id": "f3aff9e5",
   "metadata": {},
   "source": [
    "#### 사이킷런을 이용한 데이터 분리"
   ]
  },
  {
   "cell_type": "code",
   "execution_count": 33,
   "id": "0ab213a9",
   "metadata": {},
   "outputs": [],
   "source": [
    "from sklearn.model_selection import train_test_split"
   ]
  },
  {
   "cell_type": "code",
   "execution_count": 34,
   "id": "0d7d466f",
   "metadata": {},
   "outputs": [],
   "source": [
    "train_input, test_input, train_label, test_label = train_test_split(iris_datasets['data'], iris_datasets['target'],\n",
    "                                                                    test_size=0.25, random_state=42)"
   ]
  },
  {
   "cell_type": "code",
   "execution_count": 35,
   "id": "712ffbd0",
   "metadata": {
    "scrolled": true
   },
   "outputs": [
    {
     "name": "stdout",
     "output_type": "stream",
     "text": [
      "shape of train_input: (112, 4)\n",
      "shape of test_input: (38, 4)\n",
      "shape of train_label: (112,)\n",
      "shape of test_label: (38,)\n"
     ]
    }
   ],
   "source": [
    "print(\"shape of train_input: {}\".format(train_input.shape))\n",
    "print(\"shape of test_input: {}\".format(test_input.shape))\n",
    "print(\"shape of train_label: {}\".format(train_label.shape))\n",
    "print(\"shape of test_label: {}\".format(test_label.shape))"
   ]
  },
  {
   "cell_type": "markdown",
   "id": "1d12c4cf",
   "metadata": {},
   "source": [
    "#### 사이킷런을 이용한 지도 학습\n",
    "    - K-nearest neighbor classifier을 예시\n",
    "    - K는 예측하고자 하는 데이터와 가까운 몇개의 데이터를 참고할 것인지를 의미"
   ]
  },
  {
   "cell_type": "markdown",
   "id": "85a5572b",
   "metadata": {},
   "source": [
    "**KMeifhborClassifier의 특징**\n",
    "\n",
    "    1. 데이터에 대한 가정이 없어 단순하다.\n",
    "    2. 다목적 분류와 회귀에 좋다.\n",
    "    3. 높은 메모리를 요구한다.\n",
    "    4. K값이 커지면 계산이 늦어질 수 있다.\n",
    "    5. 관련 없는 기능의 데이터의 규모에 민감하다."
   ]
  },
  {
   "cell_type": "code",
   "execution_count": 36,
   "id": "b21feceb",
   "metadata": {},
   "outputs": [],
   "source": [
    "from sklearn.neighbors import KNeighborsClassifier\n",
    "\n",
    "KNN = KNeighborsClassifier(n_neighbors=3)"
   ]
  },
  {
   "cell_type": "code",
   "execution_count": 37,
   "id": "1e6e8fae",
   "metadata": {},
   "outputs": [
    {
     "data": {
      "text/plain": [
       "KNeighborsClassifier(n_neighbors=3)"
      ]
     },
     "execution_count": 37,
     "metadata": {},
     "output_type": "execute_result"
    }
   ],
   "source": [
    "KNN.fit(train_input, train_label)"
   ]
  },
  {
   "cell_type": "code",
   "execution_count": 38,
   "id": "cda0a486",
   "metadata": {
    "scrolled": true
   },
   "outputs": [
    {
     "data": {
      "text/plain": [
       "KNeighborsClassifier(n_jobs=1, n_neighbors=1)"
      ]
     },
     "execution_count": 38,
     "metadata": {},
     "output_type": "execute_result"
    }
   ],
   "source": [
    "KNeighborsClassifier(algorithm=\"auto\", leaf_size=30, metric=\"minkowski\",\n",
    "                    metric_params=None, n_jobs=1, n_neighbors=1, p=2,\n",
    "                    weights='uniform')"
   ]
  },
  {
   "cell_type": "code",
   "execution_count": 39,
   "id": "6d19e8f8",
   "metadata": {},
   "outputs": [],
   "source": [
    "import numpy as np\n",
    "\n",
    "new_input = np.array([[6.1, 2.8, 4.7, 1.2]])"
   ]
  },
  {
   "cell_type": "markdown",
   "id": "f2b8a3cc",
   "metadata": {},
   "source": [
    "new_input 예측"
   ]
  },
  {
   "cell_type": "code",
   "execution_count": 40,
   "id": "f392be93",
   "metadata": {},
   "outputs": [
    {
     "data": {
      "text/plain": [
       "array([1])"
      ]
     },
     "execution_count": 40,
     "metadata": {},
     "output_type": "execute_result"
    }
   ],
   "source": [
    "KNN.predict(new_input)"
   ]
  },
  {
   "cell_type": "code",
   "execution_count": 41,
   "id": "76951742",
   "metadata": {},
   "outputs": [
    {
     "name": "stdout",
     "output_type": "stream",
     "text": [
      "[1 0 2 1 1 0 1 2 1 1 2 0 0 0 0 1 2 1 1 2 0 2 0 2 2 2 2 2 0 0 0 0 1 0 0 2 1\n",
      " 0]\n"
     ]
    }
   ],
   "source": [
    "predict_label = KNN.predict(test_input)\n",
    "print(predict_label)"
   ]
  },
  {
   "cell_type": "code",
   "execution_count": 42,
   "id": "06263eb8",
   "metadata": {},
   "outputs": [
    {
     "name": "stdout",
     "output_type": "stream",
     "text": [
      "test accuracy 1.00\n"
     ]
    }
   ],
   "source": [
    "print('test accuracy {:.2f}'.format(np.mean(predict_label == test_label)))"
   ]
  },
  {
   "cell_type": "markdown",
   "id": "da409a83",
   "metadata": {},
   "source": [
    "- 예측 결과값과 실제 결과값의 동일값의 개수를 평균으로 구한다."
   ]
  },
  {
   "cell_type": "markdown",
   "id": "7ee38586",
   "metadata": {},
   "source": [
    "#### 사이킷런을 이용한 비지도 학습\n",
    "    - K-means Clustering을 사용\n",
    "        - K 개의 중심을 지정하고 각 중심에서 가까운 중심에 모든 데이터를 할당하고 같은 중심에 할당된 데이터를 같은 군집이라 판단\n",
    "        - 변화가 없을때까지 해당 과정을 반복한다."
   ]
  },
  {
   "cell_type": "code",
   "execution_count": 43,
   "id": "2a30d266",
   "metadata": {},
   "outputs": [],
   "source": [
    "from sklearn.cluster import KMeans\n",
    "\n",
    "k_means = KMeans(n_clusters=3)"
   ]
  },
  {
   "cell_type": "code",
   "execution_count": 44,
   "id": "cd2ae9b5",
   "metadata": {},
   "outputs": [
    {
     "data": {
      "text/plain": [
       "KMeans(n_clusters=3)"
      ]
     },
     "execution_count": 44,
     "metadata": {},
     "output_type": "execute_result"
    }
   ],
   "source": [
    "k_means.fit(train_input)"
   ]
  },
  {
   "cell_type": "code",
   "execution_count": 45,
   "id": "543f8986",
   "metadata": {},
   "outputs": [
    {
     "data": {
      "text/plain": [
       "array([0, 0, 1, 1, 1, 0, 0, 1, 1, 2, 1, 2, 1, 2, 1, 0, 2, 1, 0, 0, 0, 1,\n",
       "       1, 0, 0, 0, 1, 0, 1, 2, 0, 1, 1, 0, 1, 1, 1, 1, 2, 1, 0, 1, 2, 0,\n",
       "       0, 1, 2, 0, 1, 0, 0, 1, 1, 2, 1, 2, 2, 1, 0, 0, 1, 2, 0, 0, 0, 1,\n",
       "       2, 0, 2, 2, 0, 1, 1, 1, 2, 2, 0, 2, 1, 2, 1, 1, 1, 0, 1, 1, 0, 1,\n",
       "       2, 2, 0, 1, 2, 2, 0, 2, 0, 2, 2, 2, 1, 2, 1, 1, 1, 1, 0, 1, 1, 0,\n",
       "       1, 2])"
      ]
     },
     "execution_count": 45,
     "metadata": {},
     "output_type": "execute_result"
    }
   ],
   "source": [
    "k_means.labels_"
   ]
  },
  {
   "cell_type": "code",
   "execution_count": 46,
   "id": "27c7e581",
   "metadata": {},
   "outputs": [
    {
     "name": "stdout",
     "output_type": "stream",
     "text": [
      "0 cluster: [0 0 0 0 0 0 0 0 0 0 0 0 0 0 0 0 0 0 0 0 0 0 0 0 0 0 0 0 0 0 0 0 0 0 0]\n",
      "1 cluster: [2 1 1 1 2 1 1 1 1 1 2 1 1 1 2 2 2 1 1 1 1 1 2 1 1 1 1 2 1 1 1 2 1 1 1 1 1\n",
      " 1 1 1 1 1 1 2 2 1 2 1]\n",
      "2 cluster: [2 2 2 2 2 2 2 1 2 2 2 2 2 2 2 1 2 2 2 2 2 2 2 2 1 2 2 2 2]\n"
     ]
    }
   ],
   "source": [
    "print(\"0 cluster:\", train_label[k_means.labels_ == 0])\n",
    "print(\"1 cluster:\", train_label[k_means.labels_ == 1])\n",
    "print(\"2 cluster:\", train_label[k_means.labels_ == 2])"
   ]
  },
  {
   "cell_type": "code",
   "execution_count": 47,
   "id": "d9ef43b6",
   "metadata": {},
   "outputs": [],
   "source": [
    "import numpy as np\n",
    "\n",
    "new_input  = np.array([[6.1, 2.8, 4.7, 1.2]])"
   ]
  },
  {
   "cell_type": "code",
   "execution_count": 48,
   "id": "02dfe24d",
   "metadata": {
    "scrolled": true
   },
   "outputs": [
    {
     "name": "stdout",
     "output_type": "stream",
     "text": [
      "[1]\n"
     ]
    }
   ],
   "source": [
    "prediction = k_means.predict(new_input)\n",
    "print(prediction)"
   ]
  },
  {
   "cell_type": "code",
   "execution_count": 49,
   "id": "a26e5b31",
   "metadata": {},
   "outputs": [
    {
     "name": "stdout",
     "output_type": "stream",
     "text": [
      "[1 0 2 1 1 0 1 2 1 1 2 0 0 0 0 1 2 1 1 2 0 1 0 2 2 2 2 2 0 0 0 0 1 0 0 1 1\n",
      " 0]\n"
     ]
    }
   ],
   "source": [
    "predict_cluster = k_means.predict(test_input)\n",
    "print(predict_cluster)"
   ]
  },
  {
   "cell_type": "code",
   "execution_count": 50,
   "id": "c7cb740d",
   "metadata": {},
   "outputs": [
    {
     "name": "stdout",
     "output_type": "stream",
     "text": [
      "[0, 1, 2, 0, 0, 1, 0, 2, 0, 0, 2, 1, 1, 1, 1, 0, 2, 0, 0, 2, 1, 0, 1, 2, 2, 2, 2, 2, 1, 1, 1, 1, 0, 1, 1, 0, 0, 1]\n"
     ]
    }
   ],
   "source": [
    "np_arr = np.array(predict_cluster)\n",
    "np_arr[np_arr==0], np_arr[np_arr==1], np_arr[np_arr==2] = 3, 4, 5\n",
    "np_arr[np_arr==3] = 1\n",
    "np_arr[np_arr==4] = 0\n",
    "np_arr[np_arr==5] = 2\n",
    "predict_label = np_arr.tolist()\n",
    "print(predict_label)"
   ]
  },
  {
   "cell_type": "code",
   "execution_count": 51,
   "id": "f699a1ed",
   "metadata": {
    "scrolled": true
   },
   "outputs": [
    {
     "name": "stdout",
     "output_type": "stream",
     "text": [
      "test accuracy 0.26\n"
     ]
    }
   ],
   "source": [
    "print('test accuracy {:.2f}'.format(np.mean(predict_label == test_label)))"
   ]
  },
  {
   "cell_type": "markdown",
   "id": "cfca30ad",
   "metadata": {},
   "source": [
    "#### 사이킷런을 이용한 특징 추출\n",
    "    - CountVectorizer\n",
    "        - 텍스트 데이터에서 횟수를 기준으로 특징을 추출하는 방법\n",
    "        - 어떤 단위의 횟수를 셀 것인지는 선택사항(단어, 문자 등)\n",
    "        - 보통은 텍스트에서 단어를 기준으로 횟수를 측정한 뒤 벡터로 만듬 \n",
    "        - 해당 방법은 먼저 객체를 만들고 해당 객체를 특정 텍스트에 적합시켜야 한다.\n",
    "            -> 여기서 적합이란, 횟수를 셀 단어의 목록을 만드는 과정\n",
    "        - 그 후 횟수를 기준으로 해당 텍스트를 벡터화 한다."
   ]
  },
  {
   "cell_type": "code",
   "execution_count": 52,
   "id": "e109147f",
   "metadata": {},
   "outputs": [],
   "source": [
    "from sklearn.feature_extraction.text import CountVectorizer"
   ]
  },
  {
   "cell_type": "code",
   "execution_count": 53,
   "id": "a8162bc7",
   "metadata": {},
   "outputs": [],
   "source": [
    "text_data = [\"나는 배가 고프다\", \"내일 점심 뭐먹지\", \"내일 공부 해야겠다\", \"점심 먹고 공부 해야지\"]\n",
    "\n",
    "count_vectorizer = CountVectorizer()"
   ]
  },
  {
   "cell_type": "code",
   "execution_count": 54,
   "id": "4bfcbc85",
   "metadata": {},
   "outputs": [
    {
     "name": "stdout",
     "output_type": "stream",
     "text": [
      "{'나는': 2, '배가': 6, '고프다': 0, '내일': 3, '점심': 7, '뭐먹지': 5, '공부': 1, '해야겠다': 8, '먹고': 4, '해야지': 9}\n"
     ]
    }
   ],
   "source": [
    "count_vectorizer.fit(text_data)\n",
    "print(count_vectorizer.vocabulary_)"
   ]
  },
  {
   "cell_type": "code",
   "execution_count": 55,
   "id": "7c28e8a8",
   "metadata": {},
   "outputs": [
    {
     "name": "stdout",
     "output_type": "stream",
     "text": [
      "[[1 0 1 0 0 0 1 0 0 0]]\n"
     ]
    }
   ],
   "source": [
    "sentence = [text_data[0]] # ['나는 배가 고프다']\n",
    "print(count_vectorizer.transform(sentence).toarray())"
   ]
  },
  {
   "cell_type": "markdown",
   "id": "e6a67baa",
   "metadata": {},
   "source": [
    "#### TfidfVectorizer\n",
    "    - TfidVectorizer는 TF-IDF라는 특정한 값을 사용해서 텍스트 데이터의 특징을 추출하는 방법\n",
    "    - TF는(Rerm Frequency)란 특정 단어가 하나의 데이터 안에서 등장하는 횟수를 의미함\n",
    "    - DF는(Document Frequency)는 문서 빈도 값으로, 특정 단어가 여러 데이터에 자주 등장하는 지를 알려주는 지표\n",
    "    - ID(Inverse Document Frequency)는 이 값에 역수를 취해서 구할 수 있으며, 특정 단어가 다른 데이터에 등장 하지 않을 수록 값이 커진다는 것을 의미한다.\n",
    "    - TF-IDF란 이 두 값을 곱해서 사용하므로 어떤 단어가 해당 문서에서 자주 등장하지만, 다른 문서에서는 많이 없는 단어일수록 높은 값을 가지게 된다.\n",
    "    - 이는 CountVectorzier의 문제점을 해결 할 수 있다. "
   ]
  },
  {
   "cell_type": "code",
   "execution_count": 56,
   "id": "43ba158e",
   "metadata": {},
   "outputs": [],
   "source": [
    "from sklearn.feature_extraction.text import TfidfVectorizer"
   ]
  },
  {
   "cell_type": "code",
   "execution_count": 57,
   "id": "ae0d4c6f",
   "metadata": {},
   "outputs": [],
   "source": [
    "tfidf_vectorizer = TfidfVectorizer()"
   ]
  },
  {
   "cell_type": "code",
   "execution_count": 58,
   "id": "68312dfe",
   "metadata": {
    "scrolled": true
   },
   "outputs": [
    {
     "name": "stdout",
     "output_type": "stream",
     "text": [
      "{'나는': 2, '배가': 6, '고프다': 0, '내일': 3, '점심': 7, '뭐먹지': 5, '공부': 1, '해야겠다': 8, '먹고': 4, '해야지': 9}\n",
      "[[0.57735027 0.         0.57735027 0.         0.         0.\n",
      "  0.57735027 0.         0.         0.        ]\n",
      " [0.         0.         0.         0.52640543 0.         0.66767854\n",
      "  0.         0.52640543 0.         0.        ]\n",
      " [0.         0.52640543 0.         0.52640543 0.         0.\n",
      "  0.         0.         0.66767854 0.        ]\n",
      " [0.         0.43779123 0.         0.         0.55528266 0.\n",
      "  0.         0.43779123 0.         0.55528266]]\n"
     ]
    }
   ],
   "source": [
    "tfidf_vectorizer.fit(text_data)\n",
    "print(tfidf_vectorizer.vocabulary_)\n",
    "\n",
    "sentence = [text_data[3]] # ['점심 먹고 공부 해야지']\n",
    "print(tfidf_vectorizer.transform(text_data).toarray())"
   ]
  },
  {
   "cell_type": "markdown",
   "id": "fa36b916",
   "metadata": {},
   "source": [
    "### 3. 영어 토크나이징 라이브러리\n",
    "    - 영어의 경우 NLTK(Natural Language Toolkit)와 Spacy가 토크나이징에 많이 사용하는 라이브러리이다.\n",
    "    - 두 라이브러리는 영어 텍스트에 대해 전처리 및 분석을 하기 위한 도구로 유명하다."
   ]
  },
  {
   "cell_type": "markdown",
   "id": "91319594",
   "metadata": {},
   "source": [
    "#### 3.1 NLTK\n",
    "    - 파이썬에서 영어 텍스트 전처리에 많이 쓰이는 라이브러리이다.\n",
    "    - 50여개가 넘는 말뭉치 리소스를 활용해 영어 텍스트를 분석 할 수 있게 제공한다."
   ]
  },
  {
   "cell_type": "code",
   "execution_count": 59,
   "id": "a4bb09bb",
   "metadata": {
    "scrolled": true
   },
   "outputs": [
    {
     "name": "stderr",
     "output_type": "stream",
     "text": [
      "[nltk_data] Downloading collection 'all-corpora'\n",
      "[nltk_data]    | \n",
      "[nltk_data]    | Downloading package abc to\n",
      "[nltk_data]    |     C:\\Users\\yujinha\\AppData\\Roaming\\nltk_data...\n",
      "[nltk_data]    |   Package abc is already up-to-date!\n",
      "[nltk_data]    | Downloading package alpino to\n",
      "[nltk_data]    |     C:\\Users\\yujinha\\AppData\\Roaming\\nltk_data...\n",
      "[nltk_data]    |   Package alpino is already up-to-date!\n",
      "[nltk_data]    | Downloading package bcp47 to\n",
      "[nltk_data]    |     C:\\Users\\yujinha\\AppData\\Roaming\\nltk_data...\n",
      "[nltk_data]    |   Package bcp47 is already up-to-date!\n",
      "[nltk_data]    | Downloading package biocreative_ppi to\n",
      "[nltk_data]    |     C:\\Users\\yujinha\\AppData\\Roaming\\nltk_data...\n",
      "[nltk_data]    |   Package biocreative_ppi is already up-to-date!\n",
      "[nltk_data]    | Downloading package brown to\n",
      "[nltk_data]    |     C:\\Users\\yujinha\\AppData\\Roaming\\nltk_data...\n",
      "[nltk_data]    |   Package brown is already up-to-date!\n",
      "[nltk_data]    | Downloading package brown_tei to\n",
      "[nltk_data]    |     C:\\Users\\yujinha\\AppData\\Roaming\\nltk_data...\n",
      "[nltk_data]    |   Package brown_tei is already up-to-date!\n",
      "[nltk_data]    | Downloading package cess_cat to\n",
      "[nltk_data]    |     C:\\Users\\yujinha\\AppData\\Roaming\\nltk_data...\n",
      "[nltk_data]    |   Package cess_cat is already up-to-date!\n",
      "[nltk_data]    | Downloading package cess_esp to\n",
      "[nltk_data]    |     C:\\Users\\yujinha\\AppData\\Roaming\\nltk_data...\n",
      "[nltk_data]    |   Package cess_esp is already up-to-date!\n",
      "[nltk_data]    | Downloading package chat80 to\n",
      "[nltk_data]    |     C:\\Users\\yujinha\\AppData\\Roaming\\nltk_data...\n",
      "[nltk_data]    |   Package chat80 is already up-to-date!\n",
      "[nltk_data]    | Downloading package city_database to\n",
      "[nltk_data]    |     C:\\Users\\yujinha\\AppData\\Roaming\\nltk_data...\n",
      "[nltk_data]    |   Package city_database is already up-to-date!\n",
      "[nltk_data]    | Downloading package cmudict to\n",
      "[nltk_data]    |     C:\\Users\\yujinha\\AppData\\Roaming\\nltk_data...\n",
      "[nltk_data]    |   Package cmudict is already up-to-date!\n",
      "[nltk_data]    | Downloading package comparative_sentences to\n",
      "[nltk_data]    |     C:\\Users\\yujinha\\AppData\\Roaming\\nltk_data...\n",
      "[nltk_data]    |   Package comparative_sentences is already up-to-\n",
      "[nltk_data]    |       date!\n",
      "[nltk_data]    | Downloading package comtrans to\n",
      "[nltk_data]    |     C:\\Users\\yujinha\\AppData\\Roaming\\nltk_data...\n",
      "[nltk_data]    |   Package comtrans is already up-to-date!\n",
      "[nltk_data]    | Downloading package conll2000 to\n",
      "[nltk_data]    |     C:\\Users\\yujinha\\AppData\\Roaming\\nltk_data...\n",
      "[nltk_data]    |   Package conll2000 is already up-to-date!\n",
      "[nltk_data]    | Downloading package conll2002 to\n",
      "[nltk_data]    |     C:\\Users\\yujinha\\AppData\\Roaming\\nltk_data...\n",
      "[nltk_data]    |   Package conll2002 is already up-to-date!\n",
      "[nltk_data]    | Downloading package conll2007 to\n",
      "[nltk_data]    |     C:\\Users\\yujinha\\AppData\\Roaming\\nltk_data...\n",
      "[nltk_data]    |   Package conll2007 is already up-to-date!\n",
      "[nltk_data]    | Downloading package crubadan to\n",
      "[nltk_data]    |     C:\\Users\\yujinha\\AppData\\Roaming\\nltk_data...\n",
      "[nltk_data]    |   Package crubadan is already up-to-date!\n",
      "[nltk_data]    | Downloading package dependency_treebank to\n",
      "[nltk_data]    |     C:\\Users\\yujinha\\AppData\\Roaming\\nltk_data...\n",
      "[nltk_data]    |   Package dependency_treebank is already up-to-date!\n",
      "[nltk_data]    | Downloading package dolch to\n",
      "[nltk_data]    |     C:\\Users\\yujinha\\AppData\\Roaming\\nltk_data...\n",
      "[nltk_data]    |   Package dolch is already up-to-date!\n",
      "[nltk_data]    | Downloading package europarl_raw to\n",
      "[nltk_data]    |     C:\\Users\\yujinha\\AppData\\Roaming\\nltk_data...\n",
      "[nltk_data]    |   Package europarl_raw is already up-to-date!\n",
      "[nltk_data]    | Downloading package extended_omw to\n",
      "[nltk_data]    |     C:\\Users\\yujinha\\AppData\\Roaming\\nltk_data...\n",
      "[nltk_data]    |   Package extended_omw is already up-to-date!\n",
      "[nltk_data]    | Downloading package floresta to\n",
      "[nltk_data]    |     C:\\Users\\yujinha\\AppData\\Roaming\\nltk_data...\n",
      "[nltk_data]    |   Package floresta is already up-to-date!\n",
      "[nltk_data]    | Downloading package framenet_v15 to\n",
      "[nltk_data]    |     C:\\Users\\yujinha\\AppData\\Roaming\\nltk_data...\n",
      "[nltk_data]    |   Package framenet_v15 is already up-to-date!\n",
      "[nltk_data]    | Downloading package framenet_v17 to\n",
      "[nltk_data]    |     C:\\Users\\yujinha\\AppData\\Roaming\\nltk_data...\n",
      "[nltk_data]    |   Package framenet_v17 is already up-to-date!\n",
      "[nltk_data]    | Downloading package gazetteers to\n",
      "[nltk_data]    |     C:\\Users\\yujinha\\AppData\\Roaming\\nltk_data...\n",
      "[nltk_data]    |   Package gazetteers is already up-to-date!\n",
      "[nltk_data]    | Downloading package genesis to\n",
      "[nltk_data]    |     C:\\Users\\yujinha\\AppData\\Roaming\\nltk_data...\n",
      "[nltk_data]    |   Package genesis is already up-to-date!\n",
      "[nltk_data]    | Downloading package gutenberg to\n",
      "[nltk_data]    |     C:\\Users\\yujinha\\AppData\\Roaming\\nltk_data...\n",
      "[nltk_data]    |   Package gutenberg is already up-to-date!\n",
      "[nltk_data]    | Downloading package ieer to\n",
      "[nltk_data]    |     C:\\Users\\yujinha\\AppData\\Roaming\\nltk_data...\n",
      "[nltk_data]    |   Package ieer is already up-to-date!\n",
      "[nltk_data]    | Downloading package inaugural to\n",
      "[nltk_data]    |     C:\\Users\\yujinha\\AppData\\Roaming\\nltk_data...\n",
      "[nltk_data]    |   Package inaugural is already up-to-date!\n",
      "[nltk_data]    | Downloading package indian to\n",
      "[nltk_data]    |     C:\\Users\\yujinha\\AppData\\Roaming\\nltk_data...\n",
      "[nltk_data]    |   Package indian is already up-to-date!\n",
      "[nltk_data]    | Downloading package jeita to\n",
      "[nltk_data]    |     C:\\Users\\yujinha\\AppData\\Roaming\\nltk_data...\n",
      "[nltk_data]    |   Package jeita is already up-to-date!\n",
      "[nltk_data]    | Downloading package kimmo to\n",
      "[nltk_data]    |     C:\\Users\\yujinha\\AppData\\Roaming\\nltk_data...\n",
      "[nltk_data]    |   Package kimmo is already up-to-date!\n",
      "[nltk_data]    | Downloading package knbc to\n",
      "[nltk_data]    |     C:\\Users\\yujinha\\AppData\\Roaming\\nltk_data...\n",
      "[nltk_data]    |   Package knbc is already up-to-date!\n",
      "[nltk_data]    | Downloading package lin_thesaurus to\n",
      "[nltk_data]    |     C:\\Users\\yujinha\\AppData\\Roaming\\nltk_data...\n",
      "[nltk_data]    |   Package lin_thesaurus is already up-to-date!\n",
      "[nltk_data]    | Downloading package mac_morpho to\n",
      "[nltk_data]    |     C:\\Users\\yujinha\\AppData\\Roaming\\nltk_data...\n",
      "[nltk_data]    |   Package mac_morpho is already up-to-date!\n",
      "[nltk_data]    | Downloading package machado to\n",
      "[nltk_data]    |     C:\\Users\\yujinha\\AppData\\Roaming\\nltk_data...\n",
      "[nltk_data]    |   Package machado is already up-to-date!\n",
      "[nltk_data]    | Downloading package masc_tagged to\n",
      "[nltk_data]    |     C:\\Users\\yujinha\\AppData\\Roaming\\nltk_data...\n",
      "[nltk_data]    |   Package masc_tagged is already up-to-date!\n",
      "[nltk_data]    | Downloading package movie_reviews to\n",
      "[nltk_data]    |     C:\\Users\\yujinha\\AppData\\Roaming\\nltk_data...\n",
      "[nltk_data]    |   Package movie_reviews is already up-to-date!\n",
      "[nltk_data]    | Downloading package mte_teip5 to\n",
      "[nltk_data]    |     C:\\Users\\yujinha\\AppData\\Roaming\\nltk_data...\n",
      "[nltk_data]    |   Package mte_teip5 is already up-to-date!\n",
      "[nltk_data]    | Downloading package names to\n",
      "[nltk_data]    |     C:\\Users\\yujinha\\AppData\\Roaming\\nltk_data...\n",
      "[nltk_data]    |   Package names is already up-to-date!\n",
      "[nltk_data]    | Downloading package nombank.1.0 to\n",
      "[nltk_data]    |     C:\\Users\\yujinha\\AppData\\Roaming\\nltk_data...\n",
      "[nltk_data]    |   Package nombank.1.0 is already up-to-date!\n",
      "[nltk_data]    | Downloading package nonbreaking_prefixes to\n",
      "[nltk_data]    |     C:\\Users\\yujinha\\AppData\\Roaming\\nltk_data...\n",
      "[nltk_data]    |   Package nonbreaking_prefixes is already up-to-date!\n",
      "[nltk_data]    | Downloading package nps_chat to\n",
      "[nltk_data]    |     C:\\Users\\yujinha\\AppData\\Roaming\\nltk_data...\n",
      "[nltk_data]    |   Package nps_chat is already up-to-date!\n",
      "[nltk_data]    | Downloading package omw to\n",
      "[nltk_data]    |     C:\\Users\\yujinha\\AppData\\Roaming\\nltk_data...\n",
      "[nltk_data]    |   Package omw is already up-to-date!\n",
      "[nltk_data]    | Downloading package omw-1.4 to\n",
      "[nltk_data]    |     C:\\Users\\yujinha\\AppData\\Roaming\\nltk_data...\n",
      "[nltk_data]    |   Package omw-1.4 is already up-to-date!\n",
      "[nltk_data]    | Downloading package opinion_lexicon to\n",
      "[nltk_data]    |     C:\\Users\\yujinha\\AppData\\Roaming\\nltk_data...\n",
      "[nltk_data]    |   Package opinion_lexicon is already up-to-date!\n",
      "[nltk_data]    | Downloading package panlex_swadesh to\n",
      "[nltk_data]    |     C:\\Users\\yujinha\\AppData\\Roaming\\nltk_data...\n",
      "[nltk_data]    |   Package panlex_swadesh is already up-to-date!\n",
      "[nltk_data]    | Downloading package paradigms to\n",
      "[nltk_data]    |     C:\\Users\\yujinha\\AppData\\Roaming\\nltk_data...\n",
      "[nltk_data]    |   Package paradigms is already up-to-date!\n",
      "[nltk_data]    | Downloading package pe08 to\n",
      "[nltk_data]    |     C:\\Users\\yujinha\\AppData\\Roaming\\nltk_data...\n",
      "[nltk_data]    |   Package pe08 is already up-to-date!\n",
      "[nltk_data]    | Downloading package pil to\n",
      "[nltk_data]    |     C:\\Users\\yujinha\\AppData\\Roaming\\nltk_data...\n",
      "[nltk_data]    |   Package pil is already up-to-date!\n",
      "[nltk_data]    | Downloading package pl196x to\n",
      "[nltk_data]    |     C:\\Users\\yujinha\\AppData\\Roaming\\nltk_data...\n",
      "[nltk_data]    |   Package pl196x is already up-to-date!\n",
      "[nltk_data]    | Downloading package ppattach to\n",
      "[nltk_data]    |     C:\\Users\\yujinha\\AppData\\Roaming\\nltk_data...\n",
      "[nltk_data]    |   Package ppattach is already up-to-date!\n",
      "[nltk_data]    | Downloading package problem_reports to\n",
      "[nltk_data]    |     C:\\Users\\yujinha\\AppData\\Roaming\\nltk_data...\n",
      "[nltk_data]    |   Package problem_reports is already up-to-date!\n",
      "[nltk_data]    | Downloading package product_reviews_1 to\n",
      "[nltk_data]    |     C:\\Users\\yujinha\\AppData\\Roaming\\nltk_data...\n",
      "[nltk_data]    |   Package product_reviews_1 is already up-to-date!\n",
      "[nltk_data]    | Downloading package product_reviews_2 to\n",
      "[nltk_data]    |     C:\\Users\\yujinha\\AppData\\Roaming\\nltk_data...\n",
      "[nltk_data]    |   Package product_reviews_2 is already up-to-date!\n",
      "[nltk_data]    | Downloading package propbank to\n",
      "[nltk_data]    |     C:\\Users\\yujinha\\AppData\\Roaming\\nltk_data...\n",
      "[nltk_data]    |   Package propbank is already up-to-date!\n",
      "[nltk_data]    | Downloading package pros_cons to\n",
      "[nltk_data]    |     C:\\Users\\yujinha\\AppData\\Roaming\\nltk_data...\n",
      "[nltk_data]    |   Package pros_cons is already up-to-date!\n",
      "[nltk_data]    | Downloading package ptb to\n",
      "[nltk_data]    |     C:\\Users\\yujinha\\AppData\\Roaming\\nltk_data...\n",
      "[nltk_data]    |   Package ptb is already up-to-date!\n",
      "[nltk_data]    | Downloading package qc to\n",
      "[nltk_data]    |     C:\\Users\\yujinha\\AppData\\Roaming\\nltk_data...\n",
      "[nltk_data]    |   Package qc is already up-to-date!\n",
      "[nltk_data]    | Downloading package reuters to\n",
      "[nltk_data]    |     C:\\Users\\yujinha\\AppData\\Roaming\\nltk_data...\n",
      "[nltk_data]    |   Package reuters is already up-to-date!\n",
      "[nltk_data]    | Downloading package rte to\n",
      "[nltk_data]    |     C:\\Users\\yujinha\\AppData\\Roaming\\nltk_data...\n",
      "[nltk_data]    |   Package rte is already up-to-date!\n",
      "[nltk_data]    | Downloading package semcor to\n",
      "[nltk_data]    |     C:\\Users\\yujinha\\AppData\\Roaming\\nltk_data...\n"
     ]
    },
    {
     "name": "stderr",
     "output_type": "stream",
     "text": [
      "[nltk_data]    |   Package semcor is already up-to-date!\n",
      "[nltk_data]    | Downloading package senseval to\n",
      "[nltk_data]    |     C:\\Users\\yujinha\\AppData\\Roaming\\nltk_data...\n",
      "[nltk_data]    |   Package senseval is already up-to-date!\n",
      "[nltk_data]    | Downloading package sentence_polarity to\n",
      "[nltk_data]    |     C:\\Users\\yujinha\\AppData\\Roaming\\nltk_data...\n",
      "[nltk_data]    |   Package sentence_polarity is already up-to-date!\n",
      "[nltk_data]    | Downloading package sentiwordnet to\n",
      "[nltk_data]    |     C:\\Users\\yujinha\\AppData\\Roaming\\nltk_data...\n",
      "[nltk_data]    |   Package sentiwordnet is already up-to-date!\n",
      "[nltk_data]    | Downloading package shakespeare to\n",
      "[nltk_data]    |     C:\\Users\\yujinha\\AppData\\Roaming\\nltk_data...\n",
      "[nltk_data]    |   Package shakespeare is already up-to-date!\n",
      "[nltk_data]    | Downloading package sinica_treebank to\n",
      "[nltk_data]    |     C:\\Users\\yujinha\\AppData\\Roaming\\nltk_data...\n",
      "[nltk_data]    |   Package sinica_treebank is already up-to-date!\n",
      "[nltk_data]    | Downloading package smultron to\n",
      "[nltk_data]    |     C:\\Users\\yujinha\\AppData\\Roaming\\nltk_data...\n",
      "[nltk_data]    |   Package smultron is already up-to-date!\n",
      "[nltk_data]    | Downloading package state_union to\n",
      "[nltk_data]    |     C:\\Users\\yujinha\\AppData\\Roaming\\nltk_data...\n",
      "[nltk_data]    |   Package state_union is already up-to-date!\n",
      "[nltk_data]    | Downloading package stopwords to\n",
      "[nltk_data]    |     C:\\Users\\yujinha\\AppData\\Roaming\\nltk_data...\n",
      "[nltk_data]    |   Package stopwords is already up-to-date!\n",
      "[nltk_data]    | Downloading package subjectivity to\n",
      "[nltk_data]    |     C:\\Users\\yujinha\\AppData\\Roaming\\nltk_data...\n",
      "[nltk_data]    |   Package subjectivity is already up-to-date!\n",
      "[nltk_data]    | Downloading package swadesh to\n",
      "[nltk_data]    |     C:\\Users\\yujinha\\AppData\\Roaming\\nltk_data...\n",
      "[nltk_data]    |   Package swadesh is already up-to-date!\n",
      "[nltk_data]    | Downloading package switchboard to\n",
      "[nltk_data]    |     C:\\Users\\yujinha\\AppData\\Roaming\\nltk_data...\n",
      "[nltk_data]    |   Package switchboard is already up-to-date!\n",
      "[nltk_data]    | Downloading package timit to\n",
      "[nltk_data]    |     C:\\Users\\yujinha\\AppData\\Roaming\\nltk_data...\n",
      "[nltk_data]    |   Package timit is already up-to-date!\n",
      "[nltk_data]    | Downloading package toolbox to\n",
      "[nltk_data]    |     C:\\Users\\yujinha\\AppData\\Roaming\\nltk_data...\n",
      "[nltk_data]    |   Package toolbox is already up-to-date!\n",
      "[nltk_data]    | Downloading package treebank to\n",
      "[nltk_data]    |     C:\\Users\\yujinha\\AppData\\Roaming\\nltk_data...\n",
      "[nltk_data]    |   Package treebank is already up-to-date!\n",
      "[nltk_data]    | Downloading package twitter_samples to\n",
      "[nltk_data]    |     C:\\Users\\yujinha\\AppData\\Roaming\\nltk_data...\n",
      "[nltk_data]    |   Package twitter_samples is already up-to-date!\n",
      "[nltk_data]    | Downloading package udhr to\n",
      "[nltk_data]    |     C:\\Users\\yujinha\\AppData\\Roaming\\nltk_data...\n",
      "[nltk_data]    |   Package udhr is already up-to-date!\n",
      "[nltk_data]    | Downloading package udhr2 to\n",
      "[nltk_data]    |     C:\\Users\\yujinha\\AppData\\Roaming\\nltk_data...\n",
      "[nltk_data]    |   Package udhr2 is already up-to-date!\n",
      "[nltk_data]    | Downloading package unicode_samples to\n",
      "[nltk_data]    |     C:\\Users\\yujinha\\AppData\\Roaming\\nltk_data...\n",
      "[nltk_data]    |   Package unicode_samples is already up-to-date!\n",
      "[nltk_data]    | Downloading package universal_treebanks_v20 to\n",
      "[nltk_data]    |     C:\\Users\\yujinha\\AppData\\Roaming\\nltk_data...\n",
      "[nltk_data]    |   Package universal_treebanks_v20 is already up-to-\n",
      "[nltk_data]    |       date!\n",
      "[nltk_data]    | Downloading package verbnet to\n",
      "[nltk_data]    |     C:\\Users\\yujinha\\AppData\\Roaming\\nltk_data...\n",
      "[nltk_data]    |   Package verbnet is already up-to-date!\n",
      "[nltk_data]    | Downloading package verbnet3 to\n",
      "[nltk_data]    |     C:\\Users\\yujinha\\AppData\\Roaming\\nltk_data...\n",
      "[nltk_data]    |   Package verbnet3 is already up-to-date!\n",
      "[nltk_data]    | Downloading package webtext to\n",
      "[nltk_data]    |     C:\\Users\\yujinha\\AppData\\Roaming\\nltk_data...\n",
      "[nltk_data]    |   Package webtext is already up-to-date!\n",
      "[nltk_data]    | Downloading package wordnet to\n",
      "[nltk_data]    |     C:\\Users\\yujinha\\AppData\\Roaming\\nltk_data...\n",
      "[nltk_data]    |   Package wordnet is already up-to-date!\n",
      "[nltk_data]    | Downloading package wordnet2021 to\n",
      "[nltk_data]    |     C:\\Users\\yujinha\\AppData\\Roaming\\nltk_data...\n",
      "[nltk_data]    |   Package wordnet2021 is already up-to-date!\n",
      "[nltk_data]    | Downloading package wordnet31 to\n",
      "[nltk_data]    |     C:\\Users\\yujinha\\AppData\\Roaming\\nltk_data...\n",
      "[nltk_data]    |   Package wordnet31 is already up-to-date!\n",
      "[nltk_data]    | Downloading package wordnet_ic to\n",
      "[nltk_data]    |     C:\\Users\\yujinha\\AppData\\Roaming\\nltk_data...\n",
      "[nltk_data]    |   Package wordnet_ic is already up-to-date!\n",
      "[nltk_data]    | Downloading package words to\n",
      "[nltk_data]    |     C:\\Users\\yujinha\\AppData\\Roaming\\nltk_data...\n",
      "[nltk_data]    |   Package words is already up-to-date!\n",
      "[nltk_data]    | Downloading package ycoe to\n",
      "[nltk_data]    |     C:\\Users\\yujinha\\AppData\\Roaming\\nltk_data...\n",
      "[nltk_data]    |   Package ycoe is already up-to-date!\n",
      "[nltk_data]    | \n",
      "[nltk_data]  Done downloading collection all-corpora\n",
      "[nltk_data] Downloading package punkt to\n",
      "[nltk_data]     C:\\Users\\yujinha\\AppData\\Roaming\\nltk_data...\n",
      "[nltk_data]   Package punkt is already up-to-date!\n"
     ]
    },
    {
     "data": {
      "text/plain": [
       "True"
      ]
     },
     "execution_count": 59,
     "metadata": {},
     "output_type": "execute_result"
    }
   ],
   "source": [
    "import nltk\n",
    "\n",
    "nltk.download('all-corpora')\n",
    "nltk.download('punkt')"
   ]
  },
  {
   "cell_type": "markdown",
   "id": "5503f61a",
   "metadata": {},
   "source": [
    "**단어 단위 토크나이징**"
   ]
  },
  {
   "cell_type": "code",
   "execution_count": 60,
   "id": "7c691218",
   "metadata": {},
   "outputs": [
    {
     "name": "stdout",
     "output_type": "stream",
     "text": [
      "['Natural', 'language', 'processing', '(', 'NLP', ')', 'is', 'a', 'subfield', 'of', 'computer', 'science', ',', 'information', 'engineering', ',', 'and', 'artificial', 'intelligence', 'concerned', 'with', 'the', 'interactions', 'between', 'computers', 'and', 'human', '(', 'natural', ')', 'languages', ',', 'in', 'particular', 'how', 'to', 'program', 'computers', 'to', 'process', 'and', 'analyze', 'large', 'amounts', 'of', 'natural', 'language', 'data', '.']\n"
     ]
    }
   ],
   "source": [
    "from nltk.tokenize import word_tokenize\n",
    "\n",
    "sentence = \"Natural language processing (NLP) is a subfield of computer science, information engineering, and artificial intelligence concerned with the interactions between computers and human (natural) languages, in particular how to program computers to process and analyze large amounts of natural language data.\"\n",
    "\n",
    "print(word_tokenize(sentence))"
   ]
  },
  {
   "cell_type": "markdown",
   "id": "a019ca91",
   "metadata": {},
   "source": [
    "**문장 단위 토크나이징**"
   ]
  },
  {
   "cell_type": "code",
   "execution_count": 61,
   "id": "b42a50a2",
   "metadata": {},
   "outputs": [
    {
     "name": "stdout",
     "output_type": "stream",
     "text": [
      "['Natural language processing (NLP) is a subfield of computer science, information engineering, and artificial intelligence concerned with the interactions between computers and human (natural) languages, in particular how to program computers to process and analyze large amounts of natural language data.', 'Challenges in natural language processing frequently involve speech recognition, natural language understanding, and natural language generation.']\n"
     ]
    }
   ],
   "source": [
    "from nltk.tokenize import sent_tokenize\n",
    "\n",
    "paragraph = \"Natural language processing (NLP) is a subfield of computer science, information engineering, and artificial intelligence concerned with the interactions between computers and human (natural) languages, in particular how to program computers to process and analyze large amounts of natural language data. Challenges in natural language processing frequently involve speech recognition, natural language understanding, and natural language generation.\"\n",
    "\n",
    "print(sent_tokenize(paragraph))"
   ]
  },
  {
   "cell_type": "markdown",
   "id": "dc618f2e",
   "metadata": {},
   "source": [
    "#### Spacy\n",
    "    - 오픈소스 라이브러리다. \n",
    "    - NLTK 라이브러리에서는 단어단위 토크나이징 함수는 word_tokenize(), 문장단위 토크나이징 함수는 sent_tokennize()로 구분된다.\n",
    "    - spacy 라이브러리의 경우에는 두 경우 모두 동일한 모듈을 통해 토크나이징 한다. "
   ]
  },
  {
   "cell_type": "code",
   "execution_count": 62,
   "id": "2c23edcb",
   "metadata": {},
   "outputs": [],
   "source": [
    "import spacy"
   ]
  },
  {
   "cell_type": "code",
   "execution_count": 63,
   "id": "b123f6e2",
   "metadata": {
    "scrolled": true
   },
   "outputs": [],
   "source": [
    "#nlp = spacy.load('en')\n",
    "nlp = spacy.load('E:\\\\yujin\\\\anaconda3\\\\Lib\\\\site-packages\\\\en_core_web_sm\\\\en_core_web_sm-2.3.1')\n",
    "\n",
    "sentence = \"Natural language processing (NLP) is a subfield of computer science, information engineering, and artificial intelligence concerned with the interactions between computers and human (natural) languages, in particular how to program computers to process and analyze large amounts of natural language data.\"\n",
    "\n",
    "doc = nlp(sentence)"
   ]
  },
  {
   "cell_type": "markdown",
   "id": "22c4040e",
   "metadata": {},
   "source": [
    "    - nlp = spacy.load('en_core_web_sm')을 실행시 오류가 발생한다면 \n",
    "    - spacy와 en_core_web_sm의 버전을 확인할 필요가 있다.\n",
    "        1. spacy를 spacy.__version__을 통해 spacy의 버전을 확인하고 \n",
    "        2. C:\\\\사용자명\\\\anaconda3\\\\Lib\\\\site-packages\\\\en_core_web_sm\\\\ 으로 들어가서 en_core_web_sm의 버전을 확인한다.\n",
    "        3. https://github.com/explosion/spacy-models/blob/master/compatibility.json 해당 링크에서 호환 가능한지 확인 가능하다.\n",
    "        4. 호환이 안된다면 호환 가능한 버전으로 다운로드 해준다.\n",
    "    - 명령어: pip install https://github.com/explosion/spacy-models/releases/download/en_core_web_sm-버전/en_core_web_sm-버전.tar.gz "
   ]
  },
  {
   "cell_type": "markdown",
   "id": "f523493b",
   "metadata": {},
   "source": [
    "단어 단위 토크나이징"
   ]
  },
  {
   "cell_type": "code",
   "execution_count": 64,
   "id": "5229462d",
   "metadata": {},
   "outputs": [
    {
     "name": "stdout",
     "output_type": "stream",
     "text": [
      "['Natural', 'language', 'processing', '(', 'NLP', ')', 'is', 'a', 'subfield', 'of', 'computer', 'science', ',', 'information', 'engineering', ',', 'and', 'artificial', 'intelligence', 'concerned', 'with', 'the', 'interactions', 'between', 'computers', 'and', 'human', '(', 'natural', ')', 'languages', ',', 'in', 'particular', 'how', 'to', 'program', 'computers', 'to', 'process', 'and', 'analyze', 'large', 'amounts', 'of', 'natural', 'language', 'data', '.']\n"
     ]
    }
   ],
   "source": [
    "word_tokenized_sentence = [token.text for token in doc]\n",
    "print(word_tokenized_sentence)"
   ]
  },
  {
   "cell_type": "markdown",
   "id": "d1f38cf9",
   "metadata": {},
   "source": [
    "문장 단위 토크나이징"
   ]
  },
  {
   "cell_type": "code",
   "execution_count": 65,
   "id": "52988571",
   "metadata": {},
   "outputs": [
    {
     "name": "stdout",
     "output_type": "stream",
     "text": [
      "['Natural language processing (NLP) is a subfield of computer science, information engineering, and artificial intelligence concerned with the interactions between computers and human (natural) languages, in particular how to program computers to process and analyze large amounts of natural language data.']\n"
     ]
    }
   ],
   "source": [
    "sentence_tokenized_list = [sent.text for sent in doc.sents]\n",
    "print(sentence_tokenized_list)"
   ]
  },
  {
   "cell_type": "markdown",
   "id": "995932a4",
   "metadata": {},
   "source": [
    "### 한글 토크나이징 라이브러리 \n",
    "    - 언어적 특성상 한글은 영어를 위한 도구를 사용하기에 적합하지 않다. \n",
    "    - 예를 들어 형태소 분석기, 음소분리는 영어 도구에는 존재하지 않는다. "
   ]
  },
  {
   "cell_type": "markdown",
   "id": "e658f9b3",
   "metadata": {},
   "source": [
    "#### KoNPy\n",
    "    - 한글 자연어 처리를 쉽고 간결하게 처리할 수 있도록 만들어진 오픈소스 라이브러리다. \n",
    "    - 일반적인 어절 단위의 토크나이징은 NLTK에서도 가능하기 때문에 형태소 단위에 대한 토크나이징에 대해 알아보자"
   ]
  },
  {
   "cell_type": "code",
   "execution_count": 66,
   "id": "696dfc5c",
   "metadata": {},
   "outputs": [],
   "source": [
    "import konlpy"
   ]
  },
  {
   "cell_type": "markdown",
   "id": "a1b7b5c8",
   "metadata": {},
   "source": [
    "    - KoNLPy 형태소 분석기의 목록\n",
    "        1. Hannanum\n",
    "        2. Kkma\n",
    "        3. Komoran\n",
    "        4. Mecab\n",
    "        5. Okt"
   ]
  },
  {
   "cell_type": "code",
   "execution_count": 67,
   "id": "f4fd5957",
   "metadata": {},
   "outputs": [],
   "source": [
    "from konlpy.tag import Okt\n",
    "\n",
    "okt = Okt()"
   ]
  },
  {
   "cell_type": "markdown",
   "id": "a4ac9ceb",
   "metadata": {},
   "source": [
    "    - Okt 객체 목록\n",
    "        1. okt.morphs(): 형태소 단위로 나눈다. 옵션으로는 norm, stem이 있다.\n",
    "        2. okt.nouns(): 텍스트에서 명사만 뽑아낸다.\n",
    "        3. okt.phrases(): 텍스트에서 어절을 뽑아낸다.\n",
    "        4. okt.pos(): 각 품사를 태깅하는 역할. 품사를 태깅한다는 것은 주어진 텍스트를 형태소 단위로 나누고, 각 형태소를 그에 해당하는 품사와 함께 리스트화를 하는 것을 의미한다."
   ]
  },
  {
   "cell_type": "code",
   "execution_count": 68,
   "id": "52eb06a7",
   "metadata": {},
   "outputs": [
    {
     "name": "stdout",
     "output_type": "stream",
     "text": [
      "['한글', '자연어', '처리', '는', '재미있다', '이제', '부터', '열심히', '해야지', 'ㅎㅎㅎ']\n",
      "['한글', '한글 자연어', '한글 자연어 처리', '이제', '자연어', '처리']\n"
     ]
    }
   ],
   "source": [
    "text = \"한글 자연어 처리는 재미있다 이제부터 열심히 해야지 ㅎㅎㅎ\"\n",
    "print(okt.morphs(text))\n",
    "print(okt.phrases(text))"
   ]
  },
  {
   "cell_type": "code",
   "execution_count": 69,
   "id": "cfa6e4d9",
   "metadata": {
    "scrolled": true
   },
   "outputs": [
    {
     "name": "stdout",
     "output_type": "stream",
     "text": [
      "[('한글', 'Noun'), ('자연어', 'Noun'), ('처리', 'Noun'), ('는', 'Josa'), ('재미있다', 'Adjective'), ('이제', 'Noun'), ('부터', 'Josa'), ('열심히', 'Adverb'), ('해야지', 'Verb'), ('ㅎㅎㅎ', 'KoreanParticle')]\n",
      "['한글/Noun', '자연어/Noun', '처리/Noun', '는/Josa', '재미있다/Adjective', '이제/Noun', '부터/Josa', '열심히/Adverb', '해야지/Verb', 'ㅎㅎㅎ/KoreanParticle']\n"
     ]
    }
   ],
   "source": [
    "print(okt.pos(text))\n",
    "print(okt.pos(text, join=True)) #형태소와 품사를 붙여서 리스트화"
   ]
  },
  {
   "cell_type": "markdown",
   "id": "e1152c9a",
   "metadata": {},
   "source": [
    "**Konly 데이터**\n",
    "\n",
    "    - 한글 자연어 처리에 활용할 수 있는 한글 데이터를 포함하고 있다.\n",
    "    - kolaw와 kobill 두개의 말뭉치가 존재한다.\n",
    "        1. "
   ]
  },
  {
   "cell_type": "code",
   "execution_count": 70,
   "id": "5ba5e286",
   "metadata": {},
   "outputs": [],
   "source": [
    "from konlpy.corpus import kolaw\n",
    "from konlpy.corpus import kobill"
   ]
  },
  {
   "cell_type": "code",
   "execution_count": 71,
   "id": "4634edeb",
   "metadata": {},
   "outputs": [
    {
     "data": {
      "text/plain": [
       "'대한민국헌법\\n\\n유구한 역사와 전통에 '"
      ]
     },
     "execution_count": 71,
     "metadata": {},
     "output_type": "execute_result"
    }
   ],
   "source": [
    "kolaw.open('constitution.txt').read()[:20]"
   ]
  },
  {
   "cell_type": "code",
   "execution_count": 72,
   "id": "c7ca7a22",
   "metadata": {
    "scrolled": true
   },
   "outputs": [
    {
     "data": {
      "text/plain": [
       "'지방공무원법 일부개정법률안\\n\\n(정의화의원 대표발의 )\\n\\n 의 안\\n 번 호\\n\\n9890\\n\\n발의연월일 : 2010.  11.  12.  \\n\\n발  의  자 : 정의화․이명수․김을동 \\n\\n이사철․여상규․안규백\\n\\n황영철․박영아․김정훈\\n\\n김학송 의원(10인)\\n\\n제안이유 및 주요내용\\n\\n  초등학교 저학년의 경우에도 부모의 따뜻한 사랑과 보살핌이 필요\\n\\n한 나이이나, 현재 공무원이 자녀를 양육하기 위하여 육아휴직을 할 \\n\\n수 있는 자녀의 나이는 만 6세 이하로 되어 있어 초등학교 저학년인 \\n\\n자녀를 돌보기 위해서는 해당 부모님은 일자리를 그만 두어야 하고 \\n\\n이는 곧 출산의욕을 저하시키는 문제로 이어질 수 있을 것임.\\n\\n  따라서 육아휴직이 가능한 자녀의 연령을 만 8세 이하로 개정하려\\n\\n는 것임(안 제63조제2항제4호).\\n\\n- 1 -\\n\\n\\x0c법률  제        호\\n\\n지방공무원법 일부개정법률안\\n\\n지방공무원법 일부를 다음과 같이 개정한다.\\n\\n제63조제2항제4호 중 “만 6세 이하의 초등학교 취학 전 자녀를”을 “만 \\n\\n8세 이하(취학 중인 경우에는 초등학교 2학년 이하를 말한다)의 자녀를”\\n\\n로 한다.\\n\\n부      칙\\n\\n이 법은 공포한 날부터 시행한다.\\n\\n- 3 -\\n\\n\\x0c신 ·구조문대비표\\n\\n현      행\\n\\n개   정   안\\n\\n제63조(휴직) ① (생  략)\\n\\n제63조(휴직) ① (현행과 같음)\\n\\n  ② 공무원이 다음 각 호의 어\\n\\n  ② -------------------------\\n\\n느 하나에 해당하는 사유로 휴\\n\\n----------------------------\\n\\n직을 원하면 임용권자는 휴직\\n\\n----------------------------\\n\\n을 명할 수 있다. 다만, 제4호\\n\\n-------------.---------------\\n\\n의 경우에는 대통령령으로 정\\n\\n----------------------------\\n\\n하는 특별한 사정이 없으면 휴\\n\\n----------------------------\\n\\n직을 명하여야 한다.\\n\\n--------------.\\n\\n  1. ∼ 3. (생  략)\\n\\n  1. ∼ 3. (현행과 같음)\\n\\n  4. 만 6세 이하의 초등학교 취\\n\\n  4. 만 8세 이하(취학 중인 경우\\n\\n학 전 자녀를 양육하기 위하\\n\\n에는 초등학교 2학년 이하를 \\n\\n여 필요하거나 여자공무원이 \\n\\n말한다)의 자녀를 ----------\\n\\n임신 또는 출산하게 되었을 \\n\\n---------------------------\\n\\n때\\n\\n---------------------------\\n\\n  5.⋅6. (생  략)\\n\\n  ③⋅④ (생  략)\\n\\n--------\\n\\n  5.⋅6. (현행과 같음)\\n\\n  ③⋅④ (현행과 같음)\\n\\n- 5 -\\n\\n\\x0c지방공무원법 일부개정법률안 등 비용추계서 미첨부사유서\\n1.  재정수반요인\\n\\n개정안에서 ｢국가공무원법｣  제71조제2항제4호 중 국가공무원의 육아\\n\\n휴직 가능 자녀의 연령을 만6세 이하에서 만8세 이하로 하고, ｢지방공\\n\\n무원법｣ 제63조제2항제4호 중 지방공무원의 육아휴직 가능 자녀의 연\\n\\n령을 만6세 이하에서 만8세 이하로 하고, ｢교육공무원법｣ 제44조제1항\\n\\n제7조 중 교육공무원의 육아휴직 가능 자녀의 연령을 만6세 이하에서 \\n\\n만8세 이하로 하고, ｢남녀고용평등과 일․가정 양립지원에 관한 법률｣ \\n\\n제19조제1항 중 근로자 육아휴직 가능 자녀연령을 만6세 이하에서 만\\n\\n8세 이하로 조정함에 따라 추가 재정소요가 예상됨.\\n\\n2.  미첨부  근거  규정\\n｢의안의 비용추계에 관한 규칙｣ 제3조제1항 단서 중 제1호(예상되는 비용이 연평균  10억원 미만\\n이거나  한시적인  경비로서  총  30억원  미만인  경우)에  해당함.\\n\\n3.  미첨부  사유\\n\\n개정안에서 국가․지방․교육공무원 및 근로자가 육아휴직을 신청할 \\n\\n수 있는 자녀의 연령을 만6세 이하에서 만8세 이하로 상향조정함에 \\n\\n따라 추가 재정소요가 예상된다. 동 법률 개정안이 2011년에 시행된다\\n\\n고 가정한 경우, 2010년 현재 자녀의 연령이 7세이고 육아휴직을 신청\\n\\n- 7 -\\n\\n\\x0c- 8 -\\n\\n하지 않은 국가․지방․교육공무원 및 근로자가 대상이 된다.\\n\\n대상연령의 확대됨에 따라 육아휴직신청자의 수가 어느 정도 늘어날 \\n\\n것으로 예상된다. 이 경우 발생하는 비용은 현행법에 따르면 월50만원\\n\\n이나 현재 관련법령 개정이 추진되고 있으며, 이에 따라 2011년에는 \\n\\n육아휴직자가 지급받는 월급여액에 비례하여 육아휴직급여가 지급되\\n\\n기 때문에 법령개정을 가정하고 추계한다. 이러한 경우 육아휴직급여\\n\\n액은 육아휴직자가 지급받는 월급여의 40%에 해당한다. 육아휴직자가 \\n\\n발생한 경우 발생하는 비용은 대체인력 고용인건비와 육아휴직자가 \\n\\n받는 월급여액의 40%이다. 이와 대비하여 육아휴직자에게 지급하던 \\n\\n임금은 더 이상 발생하지 않는다. 따라서 실제 발생하는 순비용은 육\\n\\n아휴직자에게 지급하던 월 급여액과 연령 확대에 따라 발생하는 비용\\n\\n인 육아휴직자가 받던 월급여액의 40%와 대체인력 고용인건비의 차\\n\\n액인데 이 값이 0보다 크면 추가 재정소요는 발생하지 않는다고 볼 \\n\\n수 있다.\\n\\n추가비용 발생여부를 정확하게 알아보기 위하여 비용에 대한 수리모\\n\\n델을 만들고 이에 따라 비용발생 여부를 알아보기로 하자. 모델에 사\\n\\n용되는 변수를 다음과 같이 정의한다.\\n\\n발생비용 : N×p×X + N×육아휴직급여액 - N×P\\n\\nN\\n\\nP\\n\\n: 육아휴직대상자의 수\\n\\n: 육아휴직대상자의 월급여액\\n\\n\\x0cp\\n\\nX\\n\\n: 육아휴직자가 발생한 경우 대체 고용할 확률\\n\\n: 대체 고용한 인력에게 지급하는 월급여액\\n\\n위의 수식에서 육아휴직급여액은 육아휴직자 월급여액의 40%까지 지\\n\\n급할 예정이므로 육아휴직급여액은 P×40%이다. 육아휴직자가 발생한 \\n\\n경우 대체 고용할 확률 p는 고용노동부의 육아휴직 관련 자료를 이용\\n\\n한다. 고용노동부에 따르면 2011년의 경우 육아휴직급여 대상자는 \\n\\n40,923명이며, 육아휴직에 따른 대체인력 고용 예상인원은 2,836명이\\n\\n다. 2007년부터 2011년까지의 현황을 정리하면 다음의 [표]와 같다.\\n\\n[표]  육아휴직급여  수급자의  수  및  대체인력  고용  현황:  2007~2011년\\n\\n(단위:  명,  % )\\n\\n2007\\n\\n2008\\n\\n2009\\n\\n2010\\n\\n2011\\n\\n평균\\n\\n육아휴직급여  수급자(A)\\n\\n21,185\\n\\n29,145\\n\\n35,400\\n\\n41,291\\n\\n43,899\\n\\n34,184\\n\\n대체인력  채용(B)\\n\\n796\\n\\n1,658\\n\\n1,957\\n\\n2,396\\n\\n2,836\\n\\n1,929\\n\\n비  율(B/A)\\n\\n3.8\\n\\n5.7\\n\\n5.5\\n\\n5.8\\n\\n6.5\\n\\n5.6\\n\\n자료: 고용노동부  자료를  바탕으로  국회예산정책처  작성\\n\\n위의 [표]의 자료에 따라 육아휴직자가 발생한 경우 대체 고용할 확률 \\n\\np의 값은 5.6%라고 가정한다. 그리고 비용이 발생한다고 가정하여 위\\n\\n의 수식을 다시 작성하면 다음의 수식과 같다.\\n\\nN×p×X + N×육아휴직급여액 - N×P > 0\\n\\n(1)\\n\\n- 9 -\\n\\n\\x0c- 10 -\\n\\nN×5.6%×X + N×P×40% - N×P > 0\\n\\n0.056×X > 0.6P\\n\\nX > 10.7×P\\n\\n(2)\\n\\n(3)\\n\\n(5)\\n\\n위의 수식에 육아휴직자가 받는 월 급여액을 대입하여 대체고용인력\\n\\n자에게 지급하는 월 급여액을 추정하여 보자. 육아휴직자가 월 200만\\n\\n원을 받는다고 가정하면, 대체고용인력자에게 육아휴직자가 받는 월 \\n\\n급여액의 10.7배에 달하는 월 21,428,571원 이상을 지급해야 추가 비용\\n\\n이 발생한다. 대체고용인력자에게 육아휴직자보다 더 많은 월급여액을 \\n\\n주지는 않을 것이고 그리고 10여배 이상 월급을 주지도 않을 것이기 \\n\\n때문에 추가 비용이 발생한다고 보기 힘들다. 위의 수식에서 대체인력 \\n\\n고용확률 p를 20%로 가정하더라도(이 경우 X > 3×P) 200만원 받는 \\n\\n육아휴직자 대체인력에게 월 600만원 이상을 지급해야 추가 비용이 \\n\\n발생한다.\\n\\n행정안전부의 통계자료(행정안전부 통계연감)에서는 지방공무원의 육\\n\\n아휴직 현황자료를 보여주고 있다. 여기서 육아휴직자가 발생한 경우 \\n\\n대체인력을 주로 임용대기자 또는 일용직을 활용하는 것으로 보인다. \\n\\n따라서 공무원의 경우에도 [표]에서 보여주는 일반기업체의 대체인력 \\n\\n고용확률과 차이는 크지 않을 것으로 보인다.\\n\\n이상의 논의를 바탕으로 육아휴직기간을 만6에서 만8세로 연장하더라\\n\\n도 법률 개정에 따른 추가 비용은 발생하지 않을 것으로 예상된다.\\n\\n\\x0c4.  작성자\\n\\n국회예산정책처 법안비용추계1팀\\n\\n팀      장   정 문 종\\n\\n예산분석관   김 태 완\\n\\n(02-788-4649, tanzania@assembly.go.kr)\\n\\n- 11 -\\n\\n\\x0c'"
      ]
     },
     "execution_count": 72,
     "metadata": {},
     "output_type": "execute_result"
    }
   ],
   "source": [
    "kobill.open('1809890.txt').read()"
   ]
  },
  {
   "cell_type": "markdown",
   "id": "7e6d08f2",
   "metadata": {},
   "source": [
    "    - 그외의 라이브러리로 numpy, pandas, matplotlib, re(정규표현식), beautiful soup은 따로 실습하지 않을 것이다.\n",
    "    - kaggle api에 대한 다양한 활용법이 있지만 넘어갈 것이다. "
   ]
  }
 ],
 "metadata": {
  "kernelspec": {
   "display_name": "py37",
   "language": "python",
   "name": "py37"
  },
  "language_info": {
   "codemirror_mode": {
    "name": "ipython",
    "version": 3
   },
   "file_extension": ".py",
   "mimetype": "text/x-python",
   "name": "python",
   "nbconvert_exporter": "python",
   "pygments_lexer": "ipython3",
   "version": "3.7.15"
  }
 },
 "nbformat": 4,
 "nbformat_minor": 5
}
